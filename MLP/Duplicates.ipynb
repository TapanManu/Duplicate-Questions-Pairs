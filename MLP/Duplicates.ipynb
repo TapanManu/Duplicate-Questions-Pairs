{
  "nbformat": 4,
  "nbformat_minor": 0,
  "metadata": {
    "colab": {
      "name": "Duplicate_Questions.ipynb",
      "provenance": [],
      "collapsed_sections": [],
      "authorship_tag": "ABX9TyMzZ98eJp7yrTRZCjVAEULv",
      "include_colab_link": true
    },
    "kernelspec": {
      "name": "python3",
      "display_name": "Python 3"
    }
  },
  "cells": [
    {
      "cell_type": "markdown",
      "metadata": {
        "id": "view-in-github",
        "colab_type": "text"
      },
      "source": [
        "<a href=\"https://colab.research.google.com/github/TapanManu/Duplicate-Questions-Pairs/blob/master/MLP/Duplicates.ipynb\" target=\"_parent\"><img src=\"https://colab.research.google.com/assets/colab-badge.svg\" alt=\"Open In Colab\"/></a>"
      ]
    },
    {
      "cell_type": "code",
      "metadata": {
        "id": "LOnAR198Xdqr",
        "colab_type": "code",
        "colab": {}
      },
      "source": [
        "import nltk"
      ],
      "execution_count": 1,
      "outputs": []
    },
    {
      "cell_type": "code",
      "metadata": {
        "id": "kbOaFGWpYyid",
        "colab_type": "code",
        "colab": {}
      },
      "source": [
        "import pandas as pd\n",
        "from nltk.stem.porter import PorterStemmer\n",
        "from nltk.stem.wordnet import WordNetLemmatizer"
      ],
      "execution_count": 2,
      "outputs": []
    },
    {
      "cell_type": "code",
      "metadata": {
        "id": "emgonoJ3ayqY",
        "colab_type": "code",
        "colab": {}
      },
      "source": [
        "import re\n",
        "from nltk.corpus import stopwords\n",
        "from nltk.tokenize import RegexpTokenizer\n",
        "import matplotlib.pyplot as plt"
      ],
      "execution_count": 3,
      "outputs": []
    },
    {
      "cell_type": "code",
      "metadata": {
        "id": "uSuexeYqbWm_",
        "colab_type": "code",
        "colab": {
          "resources": {
            "http://localhost:8080/nbextensions/google.colab/files.js": {
              "data": "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",
              "ok": true,
              "headers": [
                [
                  "content-type",
                  "application/javascript"
                ]
              ],
              "status": 200,
              "status_text": "OK"
            }
          },
          "base_uri": "https://localhost:8080/",
          "height": 81
        },
        "outputId": "547a399c-c2a3-4b9d-8985-0dbd597dc5ea"
      },
      "source": [
        "from google.colab import files\n",
        "uploaded = files.upload()"
      ],
      "execution_count": 4,
      "outputs": [
        {
          "output_type": "display_data",
          "data": {
            "text/html": [
              "\n",
              "     <input type=\"file\" id=\"files-07b9f51f-4186-4781-888d-2fb8ef02a039\" name=\"files[]\" multiple disabled\n",
              "        style=\"border:none\" />\n",
              "     <output id=\"result-07b9f51f-4186-4781-888d-2fb8ef02a039\">\n",
              "      Upload widget is only available when the cell has been executed in the\n",
              "      current browser session. Please rerun this cell to enable.\n",
              "      </output>\n",
              "      <script src=\"/nbextensions/google.colab/files.js\"></script> "
            ],
            "text/plain": [
              "<IPython.core.display.HTML object>"
            ]
          },
          "metadata": {
            "tags": []
          }
        },
        {
          "output_type": "stream",
          "text": [
            "Saving sample_qns.csv to sample_qns.csv\n"
          ],
          "name": "stdout"
        }
      ]
    },
    {
      "cell_type": "code",
      "metadata": {
        "id": "QaxqzFB3djtH",
        "colab_type": "code",
        "colab": {}
      },
      "source": [
        "data=pd.read_csv('sample_qns.csv')"
      ],
      "execution_count": 5,
      "outputs": []
    },
    {
      "cell_type": "code",
      "metadata": {
        "id": "5OQHQy6xn_Ld",
        "colab_type": "code",
        "colab": {
          "base_uri": "https://localhost:8080/",
          "height": 34
        },
        "outputId": "17f90d9b-6dd5-49d5-c0d6-87978d1bfa54"
      },
      "source": [
        "data.columns"
      ],
      "execution_count": 6,
      "outputs": [
        {
          "output_type": "execute_result",
          "data": {
            "text/plain": [
              "Index(['id', 'qid1', 'qid2', 'question1', 'question2', 'is_duplicate'], dtype='object')"
            ]
          },
          "metadata": {
            "tags": []
          },
          "execution_count": 6
        }
      ]
    },
    {
      "cell_type": "code",
      "metadata": {
        "id": "s77eWsFcoFbd",
        "colab_type": "code",
        "colab": {
          "base_uri": "https://localhost:8080/",
          "height": 139
        },
        "outputId": "60a0159f-f48a-4274-f471-17dae310b4f8"
      },
      "source": [
        "data.isnull().sum()"
      ],
      "execution_count": 7,
      "outputs": [
        {
          "output_type": "execute_result",
          "data": {
            "text/plain": [
              "id              0\n",
              "qid1            0\n",
              "qid2            0\n",
              "question1       0\n",
              "question2       0\n",
              "is_duplicate    0\n",
              "dtype: int64"
            ]
          },
          "metadata": {
            "tags": []
          },
          "execution_count": 7
        }
      ]
    },
    {
      "cell_type": "code",
      "metadata": {
        "id": "T7tkmiB6pFQ_",
        "colab_type": "code",
        "colab": {}
      },
      "source": [
        "lem = WordNetLemmatizer()\n",
        "ps = PorterStemmer()"
      ],
      "execution_count": 8,
      "outputs": []
    },
    {
      "cell_type": "code",
      "metadata": {
        "id": "IRLOgjXipj5K",
        "colab_type": "code",
        "colab": {
          "base_uri": "https://localhost:8080/",
          "height": 69
        },
        "outputId": "b1c401ef-52c0-499d-8adf-219209052ed4"
      },
      "source": [
        "nltk.download('stopwords')"
      ],
      "execution_count": 9,
      "outputs": [
        {
          "output_type": "stream",
          "text": [
            "[nltk_data] Downloading package stopwords to /root/nltk_data...\n",
            "[nltk_data]   Unzipping corpora/stopwords.zip.\n"
          ],
          "name": "stdout"
        },
        {
          "output_type": "execute_result",
          "data": {
            "text/plain": [
              "True"
            ]
          },
          "metadata": {
            "tags": []
          },
          "execution_count": 9
        }
      ]
    },
    {
      "cell_type": "code",
      "metadata": {
        "id": "4vgVwnTepZg3",
        "colab_type": "code",
        "colab": {}
      },
      "source": [
        "import numpy as np\n",
        "stop_words = set(stopwords.words('english'))\n",
        "def remove_punc(data):\n",
        "  symbols = \"!\\\"#$%&()*+-./:;<=>?@[\\]^_`{|}~\\n\"\n",
        "  for i in symbols:\n",
        "    data = np.char.replace(data, i, ' ')\n",
        "  \n",
        "def remove_apostrophe(data):\n",
        "  return np.char.replace(data, \"'\", \"\")\n",
        "\n"
      ],
      "execution_count": 10,
      "outputs": []
    },
    {
      "cell_type": "code",
      "metadata": {
        "id": "X1fsR-mqpof4",
        "colab_type": "code",
        "colab": {}
      },
      "source": [
        "data['question1']=data['question1'].apply(lambda x:x.lower())\n",
        "data['question2']=data['question2'].apply(lambda x:x.lower())"
      ],
      "execution_count": 11,
      "outputs": []
    },
    {
      "cell_type": "code",
      "metadata": {
        "id": "4o9qZ1zxqCQj",
        "colab_type": "code",
        "colab": {
          "base_uri": "https://localhost:8080/",
          "height": 206
        },
        "outputId": "efc81ebe-c8ec-4241-8bae-8b4164510c93"
      },
      "source": [
        "data.head()"
      ],
      "execution_count": 12,
      "outputs": [
        {
          "output_type": "execute_result",
          "data": {
            "text/html": [
              "<div>\n",
              "<style scoped>\n",
              "    .dataframe tbody tr th:only-of-type {\n",
              "        vertical-align: middle;\n",
              "    }\n",
              "\n",
              "    .dataframe tbody tr th {\n",
              "        vertical-align: top;\n",
              "    }\n",
              "\n",
              "    .dataframe thead th {\n",
              "        text-align: right;\n",
              "    }\n",
              "</style>\n",
              "<table border=\"1\" class=\"dataframe\">\n",
              "  <thead>\n",
              "    <tr style=\"text-align: right;\">\n",
              "      <th></th>\n",
              "      <th>id</th>\n",
              "      <th>qid1</th>\n",
              "      <th>qid2</th>\n",
              "      <th>question1</th>\n",
              "      <th>question2</th>\n",
              "      <th>is_duplicate</th>\n",
              "    </tr>\n",
              "  </thead>\n",
              "  <tbody>\n",
              "    <tr>\n",
              "      <th>0</th>\n",
              "      <td>0</td>\n",
              "      <td>1</td>\n",
              "      <td>2</td>\n",
              "      <td>what is the step by step guide to invest in sh...</td>\n",
              "      <td>what is the step by step guide to invest in sh...</td>\n",
              "      <td>0</td>\n",
              "    </tr>\n",
              "    <tr>\n",
              "      <th>1</th>\n",
              "      <td>1</td>\n",
              "      <td>3</td>\n",
              "      <td>4</td>\n",
              "      <td>what is the story of kohinoor (koh-i-noor) dia...</td>\n",
              "      <td>what would happen if the indian government sto...</td>\n",
              "      <td>0</td>\n",
              "    </tr>\n",
              "    <tr>\n",
              "      <th>2</th>\n",
              "      <td>2</td>\n",
              "      <td>5</td>\n",
              "      <td>6</td>\n",
              "      <td>how can i increase the speed of my internet co...</td>\n",
              "      <td>how can internet speed be increased by hacking...</td>\n",
              "      <td>0</td>\n",
              "    </tr>\n",
              "    <tr>\n",
              "      <th>3</th>\n",
              "      <td>3</td>\n",
              "      <td>7</td>\n",
              "      <td>8</td>\n",
              "      <td>why am i mentally very lonely? how can i solve...</td>\n",
              "      <td>find the remainder when [math]23^{24}[/math] i...</td>\n",
              "      <td>0</td>\n",
              "    </tr>\n",
              "    <tr>\n",
              "      <th>4</th>\n",
              "      <td>4</td>\n",
              "      <td>9</td>\n",
              "      <td>10</td>\n",
              "      <td>which one dissolve in water quikly sugar, salt...</td>\n",
              "      <td>which fish would survive in salt water?</td>\n",
              "      <td>0</td>\n",
              "    </tr>\n",
              "  </tbody>\n",
              "</table>\n",
              "</div>"
            ],
            "text/plain": [
              "   id  qid1  ...                                          question2 is_duplicate\n",
              "0   0     1  ...  what is the step by step guide to invest in sh...            0\n",
              "1   1     3  ...  what would happen if the indian government sto...            0\n",
              "2   2     5  ...  how can internet speed be increased by hacking...            0\n",
              "3   3     7  ...  find the remainder when [math]23^{24}[/math] i...            0\n",
              "4   4     9  ...            which fish would survive in salt water?            0\n",
              "\n",
              "[5 rows x 6 columns]"
            ]
          },
          "metadata": {
            "tags": []
          },
          "execution_count": 12
        }
      ]
    },
    {
      "cell_type": "code",
      "metadata": {
        "id": "ad8zCDAHfIYO",
        "colab_type": "code",
        "colab": {}
      },
      "source": [
        "from sklearn.feature_extraction.text import TfidfVectorizer"
      ],
      "execution_count": 13,
      "outputs": []
    },
    {
      "cell_type": "code",
      "metadata": {
        "id": "svl3NXB-Jn41",
        "colab_type": "code",
        "colab": {
          "base_uri": "https://localhost:8080/",
          "height": 69
        },
        "outputId": "46eaa935-4317-422f-856e-48e0cf84c84a"
      },
      "source": [
        "nltk.download('punkt')"
      ],
      "execution_count": 14,
      "outputs": [
        {
          "output_type": "stream",
          "text": [
            "[nltk_data] Downloading package punkt to /root/nltk_data...\n",
            "[nltk_data]   Unzipping tokenizers/punkt.zip.\n"
          ],
          "name": "stdout"
        },
        {
          "output_type": "execute_result",
          "data": {
            "text/plain": [
              "True"
            ]
          },
          "metadata": {
            "tags": []
          },
          "execution_count": 14
        }
      ]
    },
    {
      "cell_type": "code",
      "metadata": {
        "id": "XIBWkmzXtZPt",
        "colab_type": "code",
        "colab": {
          "base_uri": "https://localhost:8080/",
          "height": 69
        },
        "outputId": "3ec09ac3-af7c-4974-8847-34d19cdc72a3"
      },
      "source": [
        "nltk.download('wordnet')"
      ],
      "execution_count": 15,
      "outputs": [
        {
          "output_type": "stream",
          "text": [
            "[nltk_data] Downloading package wordnet to /root/nltk_data...\n",
            "[nltk_data]   Unzipping corpora/wordnet.zip.\n"
          ],
          "name": "stdout"
        },
        {
          "output_type": "execute_result",
          "data": {
            "text/plain": [
              "True"
            ]
          },
          "metadata": {
            "tags": []
          },
          "execution_count": 15
        }
      ]
    },
    {
      "cell_type": "markdown",
      "metadata": {
        "id": "DA-o2kz6Y6IM",
        "colab_type": "text"
      },
      "source": [
        "Cleaning and preprocessing text"
      ]
    },
    {
      "cell_type": "code",
      "metadata": {
        "id": "rsPqon8FxX5j",
        "colab_type": "code",
        "colab": {}
      },
      "source": [
        "#cleaning and text pre processing\n",
        "for j in ['question1','question2']:\n",
        "   data[j]=data[j].str.replace('[^\\w\\s]','')\n",
        "   data[j]=data[j].str.split(' ')\n",
        "   data[j]=data[j].apply(lambda x:[lem.lemmatize(y) for y in x if y not in stop_words])\n",
        "   data[j]=data[j].apply(lambda x:[ps.stem(y) for y in x])\n"
      ],
      "execution_count": 16,
      "outputs": []
    },
    {
      "cell_type": "code",
      "metadata": {
        "id": "VVwf7nCi_Mj2",
        "colab_type": "code",
        "colab": {}
      },
      "source": [
        "data['question1']=[\" \".join(q) for q in data['question1'].values]\n",
        "data['question2']=[\" \".join(q) for q in data['question2'].values]"
      ],
      "execution_count": 17,
      "outputs": []
    },
    {
      "cell_type": "code",
      "metadata": {
        "id": "aOmWyH2iBnAb",
        "colab_type": "code",
        "colab": {}
      },
      "source": [
        "def intersection(a, b):\n",
        "    return ' '.join(list(set(a.split()) & set(b.split())))\n",
        "\n",
        "def differencing(a, b):\n",
        "    return ' '.join(list(set(a.split()) ^ set(b.split())))"
      ],
      "execution_count": 18,
      "outputs": []
    },
    {
      "cell_type": "code",
      "metadata": {
        "id": "eYUdzVmvBlho",
        "colab_type": "code",
        "colab": {}
      },
      "source": [
        "data['interseq'] = data[['question1','question2']].apply(lambda x: intersection(*x), axis=1)\n",
        "data['diffseq'] = data[['question1','question2']].apply(lambda x: differencing(*x), axis=1)    \n",
        "data['q1d'] = data[['question1','diffseq']].apply(lambda x: intersection(*x), axis=1)    \n",
        "data['q2d'] = data[['question2','diffseq']].apply(lambda x: intersection(*x), axis=1)"
      ],
      "execution_count": 19,
      "outputs": []
    },
    {
      "cell_type": "code",
      "metadata": {
        "id": "dnCw-i95_5D6",
        "colab_type": "code",
        "colab": {}
      },
      "source": [
        "tf=TfidfVectorizer(ngram_range=(1,3))\n",
        "questions = pd.Series(pd.concat([data['question1'],data['question2']]),dtype=str)\n",
        "X_tfdf = tf.fit(questions)"
      ],
      "execution_count": 20,
      "outputs": []
    },
    {
      "cell_type": "code",
      "metadata": {
        "id": "rpZttMAmQIRs",
        "colab_type": "code",
        "colab": {}
      },
      "source": [
        "X_q1_tfidf = tf.transform(data.question1)\n",
        "X_q2_tfidf = tf.transform(data.question2)"
      ],
      "execution_count": 21,
      "outputs": []
    },
    {
      "cell_type": "code",
      "metadata": {
        "id": "Cu41bhQ9CKui",
        "colab_type": "code",
        "colab": {}
      },
      "source": [
        "questionI_tfidf = tf.transform(data.interseq)    \n",
        "questionD_tfidf = tf.transform(data.diffseq) \n",
        "questionQ1D_tfidf = tf.transform(data.q1d)    \n",
        "questionQ2D_tfidf = tf.transform(data.q2d)"
      ],
      "execution_count": 22,
      "outputs": []
    },
    {
      "cell_type": "code",
      "metadata": {
        "id": "iHRoAH8e1CkM",
        "colab_type": "code",
        "colab": {
          "base_uri": "https://localhost:8080/",
          "height": 121
        },
        "outputId": "e2860363-4346-472f-ed0c-beabbb1a4e18"
      },
      "source": [
        "print(X_q1_tfidf.shape)\n",
        "print(X_q2_tfidf.shape)\n",
        "print(questionI_tfidf.shape)\n",
        "print(questionD_tfidf.shape)\n",
        "print(questionQ1D_tfidf.shape)\n",
        "print(questionQ2D_tfidf.shape)"
      ],
      "execution_count": 23,
      "outputs": [
        {
          "output_type": "stream",
          "text": [
            "(3966, 59019)\n",
            "(3966, 59019)\n",
            "(3966, 59019)\n",
            "(3966, 59019)\n",
            "(3966, 59019)\n",
            "(3966, 59019)\n"
          ],
          "name": "stdout"
        }
      ]
    },
    {
      "cell_type": "code",
      "metadata": {
        "id": "alxyqPeXRkfz",
        "colab_type": "code",
        "colab": {
          "base_uri": "https://localhost:8080/",
          "height": 424
        },
        "outputId": "4197017c-42e6-4971-ac05-94cfec04e5c0"
      },
      "source": [
        "from sklearn.decomposition import TruncatedSVD\n",
        "svd = TruncatedSVD(n_components=1)\n",
        "feat = pd.DataFrame(svd.fit_transform(X_q1_tfidf))\n",
        "temp=pd.DataFrame(svd.fit_transform(X_q2_tfidf),columns=['1'])\n",
        "feat = pd.concat([feat,temp],axis=1)\n",
        "temp1=pd.DataFrame(svd.fit_transform(questionI_tfidf),columns=['2'])\n",
        "temp2=pd.DataFrame(svd.fit_transform(questionD_tfidf),columns=['3'])\n",
        "temp3=pd.DataFrame(svd.fit_transform(questionQ1D_tfidf),columns=['4'])\n",
        "temp4=pd.DataFrame(svd.fit_transform(questionQ2D_tfidf),columns=['5'])\n",
        "feat = pd.concat([feat,temp1,temp2,temp3,temp4],axis=1)\n",
        "feat.fillna(0.0) #features only dataframe"
      ],
      "execution_count": 70,
      "outputs": [
        {
          "output_type": "execute_result",
          "data": {
            "text/html": [
              "<div>\n",
              "<style scoped>\n",
              "    .dataframe tbody tr th:only-of-type {\n",
              "        vertical-align: middle;\n",
              "    }\n",
              "\n",
              "    .dataframe tbody tr th {\n",
              "        vertical-align: top;\n",
              "    }\n",
              "\n",
              "    .dataframe thead th {\n",
              "        text-align: right;\n",
              "    }\n",
              "</style>\n",
              "<table border=\"1\" class=\"dataframe\">\n",
              "  <thead>\n",
              "    <tr style=\"text-align: right;\">\n",
              "      <th></th>\n",
              "      <th>0</th>\n",
              "      <th>1</th>\n",
              "      <th>2</th>\n",
              "      <th>3</th>\n",
              "      <th>4</th>\n",
              "      <th>5</th>\n",
              "    </tr>\n",
              "  </thead>\n",
              "  <tbody>\n",
              "    <tr>\n",
              "      <th>0</th>\n",
              "      <td>0.027422</td>\n",
              "      <td>0.014137</td>\n",
              "      <td>3.729771e-02</td>\n",
              "      <td>0.015504</td>\n",
              "      <td>0.000635</td>\n",
              "      <td>1.764415e-18</td>\n",
              "    </tr>\n",
              "    <tr>\n",
              "      <th>1</th>\n",
              "      <td>0.003370</td>\n",
              "      <td>0.009056</td>\n",
              "      <td>3.209104e-08</td>\n",
              "      <td>0.020461</td>\n",
              "      <td>0.000662</td>\n",
              "      <td>2.027396e-03</td>\n",
              "    </tr>\n",
              "    <tr>\n",
              "      <th>2</th>\n",
              "      <td>0.012946</td>\n",
              "      <td>0.010836</td>\n",
              "      <td>3.888139e-03</td>\n",
              "      <td>0.011901</td>\n",
              "      <td>0.003890</td>\n",
              "      <td>1.508475e-05</td>\n",
              "    </tr>\n",
              "    <tr>\n",
              "      <th>3</th>\n",
              "      <td>0.001313</td>\n",
              "      <td>0.003381</td>\n",
              "      <td>5.066754e-17</td>\n",
              "      <td>0.005746</td>\n",
              "      <td>0.000104</td>\n",
              "      <td>4.550667e-03</td>\n",
              "    </tr>\n",
              "    <tr>\n",
              "      <th>4</th>\n",
              "      <td>0.006911</td>\n",
              "      <td>0.007017</td>\n",
              "      <td>1.349252e-03</td>\n",
              "      <td>0.015739</td>\n",
              "      <td>0.004550</td>\n",
              "      <td>1.528918e-03</td>\n",
              "    </tr>\n",
              "    <tr>\n",
              "      <th>...</th>\n",
              "      <td>...</td>\n",
              "      <td>...</td>\n",
              "      <td>...</td>\n",
              "      <td>...</td>\n",
              "      <td>...</td>\n",
              "      <td>...</td>\n",
              "    </tr>\n",
              "    <tr>\n",
              "      <th>3961</th>\n",
              "      <td>0.010155</td>\n",
              "      <td>0.008383</td>\n",
              "      <td>1.090722e-02</td>\n",
              "      <td>0.008835</td>\n",
              "      <td>-0.000000</td>\n",
              "      <td>7.999161e-04</td>\n",
              "    </tr>\n",
              "    <tr>\n",
              "      <th>3962</th>\n",
              "      <td>0.001988</td>\n",
              "      <td>0.001318</td>\n",
              "      <td>-3.514861e-08</td>\n",
              "      <td>0.002495</td>\n",
              "      <td>0.000157</td>\n",
              "      <td>1.998106e-04</td>\n",
              "    </tr>\n",
              "    <tr>\n",
              "      <th>3963</th>\n",
              "      <td>0.006663</td>\n",
              "      <td>0.002772</td>\n",
              "      <td>-1.372306e-08</td>\n",
              "      <td>0.012011</td>\n",
              "      <td>0.000598</td>\n",
              "      <td>5.272902e-04</td>\n",
              "    </tr>\n",
              "    <tr>\n",
              "      <th>3964</th>\n",
              "      <td>0.009578</td>\n",
              "      <td>0.002348</td>\n",
              "      <td>6.532561e-03</td>\n",
              "      <td>0.010539</td>\n",
              "      <td>0.004087</td>\n",
              "      <td>3.660859e-05</td>\n",
              "    </tr>\n",
              "    <tr>\n",
              "      <th>3965</th>\n",
              "      <td>0.017553</td>\n",
              "      <td>0.004276</td>\n",
              "      <td>2.406712e-03</td>\n",
              "      <td>0.013857</td>\n",
              "      <td>0.003800</td>\n",
              "      <td>1.337958e-08</td>\n",
              "    </tr>\n",
              "  </tbody>\n",
              "</table>\n",
              "<p>3966 rows × 6 columns</p>\n",
              "</div>"
            ],
            "text/plain": [
              "             0         1             2         3         4             5\n",
              "0     0.027422  0.014137  3.729771e-02  0.015504  0.000635  1.764415e-18\n",
              "1     0.003370  0.009056  3.209104e-08  0.020461  0.000662  2.027396e-03\n",
              "2     0.012946  0.010836  3.888139e-03  0.011901  0.003890  1.508475e-05\n",
              "3     0.001313  0.003381  5.066754e-17  0.005746  0.000104  4.550667e-03\n",
              "4     0.006911  0.007017  1.349252e-03  0.015739  0.004550  1.528918e-03\n",
              "...        ...       ...           ...       ...       ...           ...\n",
              "3961  0.010155  0.008383  1.090722e-02  0.008835 -0.000000  7.999161e-04\n",
              "3962  0.001988  0.001318 -3.514861e-08  0.002495  0.000157  1.998106e-04\n",
              "3963  0.006663  0.002772 -1.372306e-08  0.012011  0.000598  5.272902e-04\n",
              "3964  0.009578  0.002348  6.532561e-03  0.010539  0.004087  3.660859e-05\n",
              "3965  0.017553  0.004276  2.406712e-03  0.013857  0.003800  1.337958e-08\n",
              "\n",
              "[3966 rows x 6 columns]"
            ]
          },
          "metadata": {
            "tags": []
          },
          "execution_count": 70
        }
      ]
    },
    {
      "cell_type": "code",
      "metadata": {
        "id": "s0oI2AqBT7-L",
        "colab_type": "code",
        "colab": {}
      },
      "source": [
        "from sklearn.metrics.pairwise import cosine_similarity\n",
        "def get_cosine_similarity(feature_vec_1, feature_vec_2):    \n",
        "    return cosine_similarity(feature_vec_1, feature_vec_2)"
      ],
      "execution_count": 52,
      "outputs": []
    },
    {
      "cell_type": "code",
      "metadata": {
        "id": "FZ8fmG18QYfs",
        "colab_type": "code",
        "colab": {}
      },
      "source": [
        "import numpy as np\n",
        "X=feat\n",
        "\n",
        "y = data['is_duplicate']"
      ],
      "execution_count": 71,
      "outputs": []
    },
    {
      "cell_type": "code",
      "metadata": {
        "id": "Mv4cpAv_QjNu",
        "colab_type": "code",
        "colab": {
          "base_uri": "https://localhost:8080/",
          "height": 52
        },
        "outputId": "736a7b6a-af97-4a50-a04f-36205e052898"
      },
      "source": [
        "print(X.shape)\n",
        "print(y.shape)"
      ],
      "execution_count": 72,
      "outputs": [
        {
          "output_type": "stream",
          "text": [
            "(3966, 6)\n",
            "(3966,)\n"
          ],
          "name": "stdout"
        }
      ]
    },
    {
      "cell_type": "code",
      "metadata": {
        "id": "TN5rD6WJQnWC",
        "colab_type": "code",
        "colab": {}
      },
      "source": [
        "from sklearn.model_selection import train_test_split\n",
        "from sklearn.metrics import log_loss, accuracy_score, roc_auc_score\n",
        "from sklearn.metrics import precision_score,recall_score,f1_score\n",
        "from sklearn.metrics import confusion_matrix"
      ],
      "execution_count": 134,
      "outputs": []
    },
    {
      "cell_type": "code",
      "metadata": {
        "id": "jqee_g3DRK9o",
        "colab_type": "code",
        "colab": {}
      },
      "source": [
        "X_train, X_test, y_train, y_test = train_test_split(X, y, test_size=0.2, random_state=42)"
      ],
      "execution_count": 74,
      "outputs": []
    },
    {
      "cell_type": "code",
      "metadata": {
        "id": "xqcFBO13ZS8M",
        "colab_type": "code",
        "colab": {
          "base_uri": "https://localhost:8080/",
          "height": 139
        },
        "outputId": "ec2072c8-46c7-4ba3-8337-3381fc07f0a2"
      },
      "source": [
        "from xgboost import XGBClassifier\n",
        "xg = XGBClassifier()\n",
        "xg.fit(X_train,y_train)"
      ],
      "execution_count": 75,
      "outputs": [
        {
          "output_type": "execute_result",
          "data": {
            "text/plain": [
              "XGBClassifier(base_score=0.5, booster='gbtree', colsample_bylevel=1,\n",
              "              colsample_bynode=1, colsample_bytree=1, gamma=0,\n",
              "              learning_rate=0.1, max_delta_step=0, max_depth=3,\n",
              "              min_child_weight=1, missing=None, n_estimators=100, n_jobs=1,\n",
              "              nthread=None, objective='binary:logistic', random_state=0,\n",
              "              reg_alpha=0, reg_lambda=1, scale_pos_weight=1, seed=None,\n",
              "              silent=None, subsample=1, verbosity=1)"
            ]
          },
          "metadata": {
            "tags": []
          },
          "execution_count": 75
        }
      ]
    },
    {
      "cell_type": "code",
      "metadata": {
        "id": "tRBNU9nVak0i",
        "colab_type": "code",
        "colab": {
          "base_uri": "https://localhost:8080/",
          "height": 34
        },
        "outputId": "4574e2b3-74ca-401b-c348-ba33f926e96d"
      },
      "source": [
        "pred_xgb = xg.predict_proba(X_test)[:,1]\n",
        "logloss_xg = log_loss(y_test, pred_xgb)\n",
        "\n",
        "\n",
        "logloss_xg"
      ],
      "execution_count": 76,
      "outputs": [
        {
          "output_type": "execute_result",
          "data": {
            "text/plain": [
              "0.544584840220594"
            ]
          },
          "metadata": {
            "tags": []
          },
          "execution_count": 76
        }
      ]
    },
    {
      "cell_type": "code",
      "metadata": {
        "id": "9Zo_LjyFu6Fg",
        "colab_type": "code",
        "colab": {}
      },
      "source": [
        "from keras.models import Sequential\n",
        "from keras.layers import Dense, Embedding, LSTM, Bidirectional,Dropout,BatchNormalization\n",
        "from keras.utils.np_utils import to_categorical\n"
      ],
      "execution_count": 121,
      "outputs": []
    },
    {
      "cell_type": "code",
      "metadata": {
        "id": "gd-ruuy2v4VM",
        "colab_type": "code",
        "colab": {
          "base_uri": "https://localhost:8080/",
          "height": 1000
        },
        "outputId": "3b768469-cff1-402b-d266-5edc0aded7d5"
      },
      "source": [
        "model = Sequential()\n",
        "\n",
        "model.add(BatchNormalization(input_shape=(6,)))\n",
        "model.add(Dense(200, activation='relu'))\n",
        "model.add(Dropout(0.1))\n",
        "model.add(Dense(200, activation='relu'))\n",
        "model.add(Dropout(0.1))\n",
        "model.add(Dense(200, activation='relu'))\n",
        "model.add(Dropout(0.1))\n",
        "model.add(Dense(200, activation='relu'))\n",
        "model.add(Dropout(0.1))\n",
        "model.add(Dense(1, activation='sigmoid'))\n",
        "model.add(BatchNormalization())\n",
        "print(model.summary())\n",
        "\n",
        "\n",
        "model.compile(loss='binary_crossentropy',optimizer='adam',metrics=['accuracy'])\n",
        "model.fit(X_train,y_train,epochs=200,batch_size=40)"
      ],
      "execution_count": 130,
      "outputs": [
        {
          "output_type": "stream",
          "text": [
            "Model: \"sequential_56\"\n",
            "_________________________________________________________________\n",
            "Layer (type)                 Output Shape              Param #   \n",
            "=================================================================\n",
            "batch_normalization_14 (Batc (None, 6)                 24        \n",
            "_________________________________________________________________\n",
            "dense_152 (Dense)            (None, 200)               1400      \n",
            "_________________________________________________________________\n",
            "dropout_29 (Dropout)         (None, 200)               0         \n",
            "_________________________________________________________________\n",
            "dense_153 (Dense)            (None, 200)               40200     \n",
            "_________________________________________________________________\n",
            "dropout_30 (Dropout)         (None, 200)               0         \n",
            "_________________________________________________________________\n",
            "dense_154 (Dense)            (None, 200)               40200     \n",
            "_________________________________________________________________\n",
            "dropout_31 (Dropout)         (None, 200)               0         \n",
            "_________________________________________________________________\n",
            "dense_155 (Dense)            (None, 200)               40200     \n",
            "_________________________________________________________________\n",
            "dropout_32 (Dropout)         (None, 200)               0         \n",
            "_________________________________________________________________\n",
            "dense_156 (Dense)            (None, 1)                 201       \n",
            "_________________________________________________________________\n",
            "batch_normalization_15 (Batc (None, 1)                 4         \n",
            "=================================================================\n",
            "Total params: 122,229\n",
            "Trainable params: 122,215\n",
            "Non-trainable params: 14\n",
            "_________________________________________________________________\n",
            "None\n",
            "Epoch 1/200\n",
            "3172/3172 [==============================] - 1s 359us/step - loss: 2.8532 - accuracy: 0.5063\n",
            "Epoch 2/200\n",
            "3172/3172 [==============================] - 0s 149us/step - loss: 1.4116 - accuracy: 0.5776\n",
            "Epoch 3/200\n",
            "3172/3172 [==============================] - 0s 97us/step - loss: 1.2481 - accuracy: 0.5880\n",
            "Epoch 4/200\n",
            "3172/3172 [==============================] - 0s 109us/step - loss: 1.2117 - accuracy: 0.5936\n",
            "Epoch 5/200\n",
            "3172/3172 [==============================] - 0s 112us/step - loss: 1.0865 - accuracy: 0.6081\n",
            "Epoch 6/200\n",
            "3172/3172 [==============================] - 0s 98us/step - loss: 1.1476 - accuracy: 0.6034\n",
            "Epoch 7/200\n",
            "3172/3172 [==============================] - 0s 99us/step - loss: 1.0916 - accuracy: 0.6018\n",
            "Epoch 8/200\n",
            "3172/3172 [==============================] - 0s 99us/step - loss: 1.0761 - accuracy: 0.6078\n",
            "Epoch 9/200\n",
            "3172/3172 [==============================] - 0s 97us/step - loss: 1.0227 - accuracy: 0.5977\n",
            "Epoch 10/200\n",
            "3172/3172 [==============================] - 0s 100us/step - loss: 1.1024 - accuracy: 0.5965\n",
            "Epoch 11/200\n",
            "3172/3172 [==============================] - 0s 97us/step - loss: 1.0323 - accuracy: 0.6110\n",
            "Epoch 12/200\n",
            "3172/3172 [==============================] - 0s 106us/step - loss: 1.0278 - accuracy: 0.6157\n",
            "Epoch 13/200\n",
            "3172/3172 [==============================] - 0s 110us/step - loss: 1.0271 - accuracy: 0.6078\n",
            "Epoch 14/200\n",
            "3172/3172 [==============================] - 0s 116us/step - loss: 1.0665 - accuracy: 0.6091\n",
            "Epoch 15/200\n",
            "3172/3172 [==============================] - 0s 101us/step - loss: 1.1507 - accuracy: 0.5886\n",
            "Epoch 16/200\n",
            "3172/3172 [==============================] - 0s 102us/step - loss: 1.1202 - accuracy: 0.5996\n",
            "Epoch 17/200\n",
            "3172/3172 [==============================] - 0s 101us/step - loss: 1.0566 - accuracy: 0.6028\n",
            "Epoch 18/200\n",
            "3172/3172 [==============================] - 0s 109us/step - loss: 1.0645 - accuracy: 0.6018\n",
            "Epoch 19/200\n",
            "3172/3172 [==============================] - 0s 103us/step - loss: 1.0189 - accuracy: 0.5996\n",
            "Epoch 20/200\n",
            "3172/3172 [==============================] - 0s 110us/step - loss: 0.9833 - accuracy: 0.6107\n",
            "Epoch 21/200\n",
            "3172/3172 [==============================] - 0s 106us/step - loss: 1.0559 - accuracy: 0.5977\n",
            "Epoch 22/200\n",
            "3172/3172 [==============================] - 0s 114us/step - loss: 0.9980 - accuracy: 0.6050\n",
            "Epoch 23/200\n",
            "3172/3172 [==============================] - 0s 116us/step - loss: 1.0652 - accuracy: 0.5810\n",
            "Epoch 24/200\n",
            "3172/3172 [==============================] - 0s 99us/step - loss: 1.1006 - accuracy: 0.5889\n",
            "Epoch 25/200\n",
            "3172/3172 [==============================] - 0s 103us/step - loss: 1.1430 - accuracy: 0.6192\n",
            "Epoch 26/200\n",
            "3172/3172 [==============================] - 0s 105us/step - loss: 0.9796 - accuracy: 0.6176\n",
            "Epoch 27/200\n",
            "3172/3172 [==============================] - 0s 113us/step - loss: 0.9638 - accuracy: 0.6179\n",
            "Epoch 28/200\n",
            "3172/3172 [==============================] - 0s 102us/step - loss: 0.9516 - accuracy: 0.6230\n",
            "Epoch 29/200\n",
            "3172/3172 [==============================] - 0s 108us/step - loss: 0.9796 - accuracy: 0.6148\n",
            "Epoch 30/200\n",
            "3172/3172 [==============================] - 0s 104us/step - loss: 0.9759 - accuracy: 0.6182\n",
            "Epoch 31/200\n",
            "3172/3172 [==============================] - 0s 99us/step - loss: 0.9561 - accuracy: 0.6217\n",
            "Epoch 32/200\n",
            "3172/3172 [==============================] - 0s 108us/step - loss: 0.9458 - accuracy: 0.6204\n",
            "Epoch 33/200\n",
            "3172/3172 [==============================] - 0s 103us/step - loss: 0.9633 - accuracy: 0.6125\n",
            "Epoch 34/200\n",
            "3172/3172 [==============================] - 0s 105us/step - loss: 0.9693 - accuracy: 0.6151\n",
            "Epoch 35/200\n",
            "3172/3172 [==============================] - 0s 104us/step - loss: 0.9207 - accuracy: 0.6242\n",
            "Epoch 36/200\n",
            "3172/3172 [==============================] - 0s 102us/step - loss: 0.9484 - accuracy: 0.6252\n",
            "Epoch 37/200\n",
            "3172/3172 [==============================] - 0s 106us/step - loss: 0.9733 - accuracy: 0.6255\n",
            "Epoch 38/200\n",
            "3172/3172 [==============================] - 0s 98us/step - loss: 0.9214 - accuracy: 0.6201\n",
            "Epoch 39/200\n",
            "3172/3172 [==============================] - 0s 101us/step - loss: 0.8954 - accuracy: 0.6217\n",
            "Epoch 40/200\n",
            "3172/3172 [==============================] - 0s 102us/step - loss: 0.9046 - accuracy: 0.6242\n",
            "Epoch 41/200\n",
            "3172/3172 [==============================] - 0s 99us/step - loss: 0.9335 - accuracy: 0.6170\n",
            "Epoch 42/200\n",
            "3172/3172 [==============================] - 0s 102us/step - loss: 0.9451 - accuracy: 0.6176\n",
            "Epoch 43/200\n",
            "3172/3172 [==============================] - 0s 106us/step - loss: 0.9369 - accuracy: 0.6160\n",
            "Epoch 44/200\n",
            "3172/3172 [==============================] - 0s 103us/step - loss: 0.9185 - accuracy: 0.6204\n",
            "Epoch 45/200\n",
            "3172/3172 [==============================] - 0s 103us/step - loss: 1.0147 - accuracy: 0.6173\n",
            "Epoch 46/200\n",
            "3172/3172 [==============================] - 0s 102us/step - loss: 1.0466 - accuracy: 0.6198\n",
            "Epoch 47/200\n",
            "3172/3172 [==============================] - 0s 104us/step - loss: 0.9599 - accuracy: 0.6274\n",
            "Epoch 48/200\n",
            "3172/3172 [==============================] - 0s 109us/step - loss: 0.9299 - accuracy: 0.6236\n",
            "Epoch 49/200\n",
            "3172/3172 [==============================] - 0s 102us/step - loss: 0.9505 - accuracy: 0.6270\n",
            "Epoch 50/200\n",
            "3172/3172 [==============================] - 0s 100us/step - loss: 0.9572 - accuracy: 0.6283\n",
            "Epoch 51/200\n",
            "3172/3172 [==============================] - 0s 104us/step - loss: 0.9252 - accuracy: 0.6230\n",
            "Epoch 52/200\n",
            "3172/3172 [==============================] - 0s 97us/step - loss: 0.9576 - accuracy: 0.6233\n",
            "Epoch 53/200\n",
            "3172/3172 [==============================] - 0s 101us/step - loss: 0.8977 - accuracy: 0.6327\n",
            "Epoch 54/200\n",
            "3172/3172 [==============================] - 0s 103us/step - loss: 0.8939 - accuracy: 0.6226\n",
            "Epoch 55/200\n",
            "3172/3172 [==============================] - 0s 101us/step - loss: 0.8936 - accuracy: 0.6233\n",
            "Epoch 56/200\n",
            "3172/3172 [==============================] - 0s 100us/step - loss: 0.9157 - accuracy: 0.6349\n",
            "Epoch 57/200\n",
            "3172/3172 [==============================] - 0s 100us/step - loss: 0.8948 - accuracy: 0.6245\n",
            "Epoch 58/200\n",
            "3172/3172 [==============================] - 0s 99us/step - loss: 0.9240 - accuracy: 0.6236\n",
            "Epoch 59/200\n",
            "3172/3172 [==============================] - 0s 98us/step - loss: 0.9390 - accuracy: 0.6255\n",
            "Epoch 60/200\n",
            "3172/3172 [==============================] - 0s 100us/step - loss: 0.8817 - accuracy: 0.6163\n",
            "Epoch 61/200\n",
            "3172/3172 [==============================] - 0s 103us/step - loss: 0.8828 - accuracy: 0.6248\n",
            "Epoch 62/200\n",
            "3172/3172 [==============================] - 0s 107us/step - loss: 0.8612 - accuracy: 0.6289\n",
            "Epoch 63/200\n",
            "3172/3172 [==============================] - 0s 98us/step - loss: 0.8760 - accuracy: 0.6393\n",
            "Epoch 64/200\n",
            "3172/3172 [==============================] - 0s 100us/step - loss: 0.8481 - accuracy: 0.6371\n",
            "Epoch 65/200\n",
            "3172/3172 [==============================] - 0s 96us/step - loss: 0.8181 - accuracy: 0.6371\n",
            "Epoch 66/200\n",
            "3172/3172 [==============================] - 0s 97us/step - loss: 0.8018 - accuracy: 0.6406\n",
            "Epoch 67/200\n",
            "3172/3172 [==============================] - 0s 101us/step - loss: 0.8098 - accuracy: 0.6409\n",
            "Epoch 68/200\n",
            "3172/3172 [==============================] - 0s 98us/step - loss: 0.7461 - accuracy: 0.6378\n",
            "Epoch 69/200\n",
            "3172/3172 [==============================] - 0s 102us/step - loss: 0.6924 - accuracy: 0.6340\n",
            "Epoch 70/200\n",
            "3172/3172 [==============================] - 0s 103us/step - loss: 0.6556 - accuracy: 0.6526\n",
            "Epoch 71/200\n",
            "3172/3172 [==============================] - 0s 98us/step - loss: 0.6444 - accuracy: 0.6605\n",
            "Epoch 72/200\n",
            "3172/3172 [==============================] - 0s 98us/step - loss: 0.6305 - accuracy: 0.6636\n",
            "Epoch 73/200\n",
            "3172/3172 [==============================] - 0s 101us/step - loss: 0.6223 - accuracy: 0.6696\n",
            "Epoch 74/200\n",
            "3172/3172 [==============================] - 0s 96us/step - loss: 0.6287 - accuracy: 0.6605\n",
            "Epoch 75/200\n",
            "3172/3172 [==============================] - 0s 98us/step - loss: 0.6973 - accuracy: 0.6475\n",
            "Epoch 76/200\n",
            "3172/3172 [==============================] - 0s 103us/step - loss: 0.6683 - accuracy: 0.6444\n",
            "Epoch 77/200\n",
            "3172/3172 [==============================] - 0s 98us/step - loss: 0.6348 - accuracy: 0.6538\n",
            "Epoch 78/200\n",
            "3172/3172 [==============================] - 0s 95us/step - loss: 0.6333 - accuracy: 0.6545\n",
            "Epoch 79/200\n",
            "3172/3172 [==============================] - 0s 100us/step - loss: 0.6336 - accuracy: 0.6516\n",
            "Epoch 80/200\n",
            "3172/3172 [==============================] - 0s 100us/step - loss: 0.6295 - accuracy: 0.6579\n",
            "Epoch 81/200\n",
            "3172/3172 [==============================] - 0s 99us/step - loss: 0.6380 - accuracy: 0.6642\n",
            "Epoch 82/200\n",
            "3172/3172 [==============================] - 0s 101us/step - loss: 0.6262 - accuracy: 0.6608\n",
            "Epoch 83/200\n",
            "3172/3172 [==============================] - 0s 99us/step - loss: 0.6250 - accuracy: 0.6583\n",
            "Epoch 84/200\n",
            "3172/3172 [==============================] - 0s 97us/step - loss: 0.6196 - accuracy: 0.6690\n",
            "Epoch 85/200\n",
            "3172/3172 [==============================] - 0s 102us/step - loss: 0.6221 - accuracy: 0.6639\n",
            "Epoch 86/200\n",
            "3172/3172 [==============================] - 0s 107us/step - loss: 0.6151 - accuracy: 0.6759\n",
            "Epoch 87/200\n",
            "3172/3172 [==============================] - 0s 102us/step - loss: 0.6187 - accuracy: 0.6649\n",
            "Epoch 88/200\n",
            "3172/3172 [==============================] - 0s 99us/step - loss: 0.6131 - accuracy: 0.6715\n",
            "Epoch 89/200\n",
            "3172/3172 [==============================] - 0s 100us/step - loss: 0.6182 - accuracy: 0.6649\n",
            "Epoch 90/200\n",
            "3172/3172 [==============================] - 0s 96us/step - loss: 0.6159 - accuracy: 0.6734\n",
            "Epoch 91/200\n",
            "3172/3172 [==============================] - 0s 103us/step - loss: 0.6147 - accuracy: 0.6690\n",
            "Epoch 92/200\n",
            "3172/3172 [==============================] - 0s 104us/step - loss: 0.6157 - accuracy: 0.6696\n",
            "Epoch 93/200\n",
            "3172/3172 [==============================] - 0s 96us/step - loss: 0.6129 - accuracy: 0.6750\n",
            "Epoch 94/200\n",
            "3172/3172 [==============================] - 0s 98us/step - loss: 0.6172 - accuracy: 0.6724\n",
            "Epoch 95/200\n",
            "3172/3172 [==============================] - 0s 98us/step - loss: 0.6165 - accuracy: 0.6734\n",
            "Epoch 96/200\n",
            "3172/3172 [==============================] - 0s 104us/step - loss: 0.6168 - accuracy: 0.6690\n",
            "Epoch 97/200\n",
            "3172/3172 [==============================] - 0s 102us/step - loss: 0.6176 - accuracy: 0.6737\n",
            "Epoch 98/200\n",
            "3172/3172 [==============================] - 0s 105us/step - loss: 0.6089 - accuracy: 0.6693\n",
            "Epoch 99/200\n",
            "3172/3172 [==============================] - 0s 105us/step - loss: 0.6170 - accuracy: 0.6687\n",
            "Epoch 100/200\n",
            "3172/3172 [==============================] - 0s 102us/step - loss: 0.6102 - accuracy: 0.6740\n",
            "Epoch 101/200\n",
            "3172/3172 [==============================] - 0s 104us/step - loss: 0.6149 - accuracy: 0.6709\n",
            "Epoch 102/200\n",
            "3172/3172 [==============================] - 0s 105us/step - loss: 0.6093 - accuracy: 0.6696\n",
            "Epoch 103/200\n",
            "3172/3172 [==============================] - 0s 103us/step - loss: 0.6149 - accuracy: 0.6690\n",
            "Epoch 104/200\n",
            "3172/3172 [==============================] - 0s 108us/step - loss: 0.6132 - accuracy: 0.6731\n",
            "Epoch 105/200\n",
            "3172/3172 [==============================] - 0s 107us/step - loss: 0.6119 - accuracy: 0.6642\n",
            "Epoch 106/200\n",
            "3172/3172 [==============================] - 0s 103us/step - loss: 0.6084 - accuracy: 0.6709\n",
            "Epoch 107/200\n",
            "3172/3172 [==============================] - 0s 102us/step - loss: 0.6125 - accuracy: 0.6668\n",
            "Epoch 108/200\n",
            "3172/3172 [==============================] - 0s 115us/step - loss: 0.6331 - accuracy: 0.6649\n",
            "Epoch 109/200\n",
            "3172/3172 [==============================] - 0s 109us/step - loss: 0.6225 - accuracy: 0.6636\n",
            "Epoch 110/200\n",
            "3172/3172 [==============================] - 0s 101us/step - loss: 0.6279 - accuracy: 0.6652\n",
            "Epoch 111/200\n",
            "3172/3172 [==============================] - 0s 103us/step - loss: 0.6112 - accuracy: 0.6677\n",
            "Epoch 112/200\n",
            "3172/3172 [==============================] - 0s 103us/step - loss: 0.6153 - accuracy: 0.6699\n",
            "Epoch 113/200\n",
            "3172/3172 [==============================] - 0s 105us/step - loss: 0.6178 - accuracy: 0.6617\n",
            "Epoch 114/200\n",
            "3172/3172 [==============================] - 0s 99us/step - loss: 0.6196 - accuracy: 0.6677\n",
            "Epoch 115/200\n",
            "3172/3172 [==============================] - 0s 101us/step - loss: 0.6329 - accuracy: 0.6564\n",
            "Epoch 116/200\n",
            "3172/3172 [==============================] - 0s 103us/step - loss: 0.6239 - accuracy: 0.6680\n",
            "Epoch 117/200\n",
            "3172/3172 [==============================] - 0s 99us/step - loss: 0.6149 - accuracy: 0.6750\n",
            "Epoch 118/200\n",
            "3172/3172 [==============================] - 0s 99us/step - loss: 0.6251 - accuracy: 0.6699\n",
            "Epoch 119/200\n",
            "3172/3172 [==============================] - 0s 102us/step - loss: 0.6162 - accuracy: 0.6652\n",
            "Epoch 120/200\n",
            "3172/3172 [==============================] - 0s 110us/step - loss: 0.6320 - accuracy: 0.6781\n",
            "Epoch 121/200\n",
            "3172/3172 [==============================] - 0s 99us/step - loss: 0.6190 - accuracy: 0.6702\n",
            "Epoch 122/200\n",
            "3172/3172 [==============================] - 0s 101us/step - loss: 0.6125 - accuracy: 0.6699\n",
            "Epoch 123/200\n",
            "3172/3172 [==============================] - 0s 104us/step - loss: 0.6190 - accuracy: 0.6709\n",
            "Epoch 124/200\n",
            "3172/3172 [==============================] - 0s 102us/step - loss: 0.6150 - accuracy: 0.6699\n",
            "Epoch 125/200\n",
            "3172/3172 [==============================] - 0s 105us/step - loss: 0.6137 - accuracy: 0.6734\n",
            "Epoch 126/200\n",
            "3172/3172 [==============================] - 0s 110us/step - loss: 0.6230 - accuracy: 0.6649\n",
            "Epoch 127/200\n",
            "3172/3172 [==============================] - 0s 101us/step - loss: 0.6307 - accuracy: 0.6683\n",
            "Epoch 128/200\n",
            "3172/3172 [==============================] - 0s 99us/step - loss: 0.6123 - accuracy: 0.6724\n",
            "Epoch 129/200\n",
            "3172/3172 [==============================] - 0s 102us/step - loss: 0.6146 - accuracy: 0.6702\n",
            "Epoch 130/200\n",
            "3172/3172 [==============================] - 0s 98us/step - loss: 0.6247 - accuracy: 0.6687\n",
            "Epoch 131/200\n",
            "3172/3172 [==============================] - 0s 101us/step - loss: 0.6153 - accuracy: 0.6788\n",
            "Epoch 132/200\n",
            "3172/3172 [==============================] - 0s 100us/step - loss: 0.6158 - accuracy: 0.6699\n",
            "Epoch 133/200\n",
            "3172/3172 [==============================] - 0s 102us/step - loss: 0.6125 - accuracy: 0.6690\n",
            "Epoch 134/200\n",
            "3172/3172 [==============================] - 0s 102us/step - loss: 0.6154 - accuracy: 0.6687\n",
            "Epoch 135/200\n",
            "3172/3172 [==============================] - 0s 105us/step - loss: 0.6045 - accuracy: 0.6784\n",
            "Epoch 136/200\n",
            "3172/3172 [==============================] - 0s 102us/step - loss: 0.6105 - accuracy: 0.6706\n",
            "Epoch 137/200\n",
            "3172/3172 [==============================] - 0s 99us/step - loss: 0.6110 - accuracy: 0.6696\n",
            "Epoch 138/200\n",
            "3172/3172 [==============================] - 0s 97us/step - loss: 0.6105 - accuracy: 0.6709\n",
            "Epoch 139/200\n",
            "3172/3172 [==============================] - 0s 98us/step - loss: 0.6129 - accuracy: 0.6740\n",
            "Epoch 140/200\n",
            "3172/3172 [==============================] - 0s 96us/step - loss: 0.6038 - accuracy: 0.6756\n",
            "Epoch 141/200\n",
            "3172/3172 [==============================] - 0s 103us/step - loss: 0.6139 - accuracy: 0.6734\n",
            "Epoch 142/200\n",
            "3172/3172 [==============================] - 0s 98us/step - loss: 0.6117 - accuracy: 0.6718\n",
            "Epoch 143/200\n",
            "3172/3172 [==============================] - 0s 100us/step - loss: 0.6149 - accuracy: 0.6734\n",
            "Epoch 144/200\n",
            "3172/3172 [==============================] - 0s 101us/step - loss: 0.6228 - accuracy: 0.6627\n",
            "Epoch 145/200\n",
            "3172/3172 [==============================] - 0s 99us/step - loss: 0.6166 - accuracy: 0.6674\n",
            "Epoch 146/200\n",
            "3172/3172 [==============================] - 0s 98us/step - loss: 0.6100 - accuracy: 0.6702\n",
            "Epoch 147/200\n",
            "3172/3172 [==============================] - 0s 98us/step - loss: 0.6118 - accuracy: 0.6633\n",
            "Epoch 148/200\n",
            "3172/3172 [==============================] - 0s 96us/step - loss: 0.6057 - accuracy: 0.6743\n",
            "Epoch 149/200\n",
            "3172/3172 [==============================] - 0s 101us/step - loss: 0.6146 - accuracy: 0.6690\n",
            "Epoch 150/200\n",
            "3172/3172 [==============================] - 0s 101us/step - loss: 0.6110 - accuracy: 0.6753\n",
            "Epoch 151/200\n",
            "3172/3172 [==============================] - 0s 96us/step - loss: 0.6067 - accuracy: 0.6775\n",
            "Epoch 152/200\n",
            "3172/3172 [==============================] - 0s 97us/step - loss: 0.6217 - accuracy: 0.6709\n",
            "Epoch 153/200\n",
            "3172/3172 [==============================] - 0s 103us/step - loss: 0.6250 - accuracy: 0.6797\n",
            "Epoch 154/200\n",
            "3172/3172 [==============================] - 0s 98us/step - loss: 0.6281 - accuracy: 0.6810\n",
            "Epoch 155/200\n",
            "3172/3172 [==============================] - 0s 103us/step - loss: 0.6120 - accuracy: 0.6800\n",
            "Epoch 156/200\n",
            "3172/3172 [==============================] - 0s 102us/step - loss: 0.6106 - accuracy: 0.6683\n",
            "Epoch 157/200\n",
            "3172/3172 [==============================] - 0s 105us/step - loss: 0.6130 - accuracy: 0.6680\n",
            "Epoch 158/200\n",
            "3172/3172 [==============================] - 0s 101us/step - loss: 0.6110 - accuracy: 0.6772\n",
            "Epoch 159/200\n",
            "3172/3172 [==============================] - 0s 97us/step - loss: 0.6125 - accuracy: 0.6702\n",
            "Epoch 160/200\n",
            "3172/3172 [==============================] - 0s 100us/step - loss: 0.6074 - accuracy: 0.6696\n",
            "Epoch 161/200\n",
            "3172/3172 [==============================] - 0s 99us/step - loss: 0.6051 - accuracy: 0.6734\n",
            "Epoch 162/200\n",
            "3172/3172 [==============================] - 0s 104us/step - loss: 0.6075 - accuracy: 0.6665\n",
            "Epoch 163/200\n",
            "3172/3172 [==============================] - 0s 110us/step - loss: 0.6178 - accuracy: 0.6772\n",
            "Epoch 164/200\n",
            "3172/3172 [==============================] - 0s 107us/step - loss: 0.6152 - accuracy: 0.6781\n",
            "Epoch 165/200\n",
            "3172/3172 [==============================] - 0s 101us/step - loss: 0.6119 - accuracy: 0.6731\n",
            "Epoch 166/200\n",
            "3172/3172 [==============================] - 0s 98us/step - loss: 0.6067 - accuracy: 0.6712\n",
            "Epoch 167/200\n",
            "3172/3172 [==============================] - 0s 98us/step - loss: 0.6086 - accuracy: 0.6753\n",
            "Epoch 168/200\n",
            "3172/3172 [==============================] - 0s 105us/step - loss: 0.6061 - accuracy: 0.6680\n",
            "Epoch 169/200\n",
            "3172/3172 [==============================] - 0s 100us/step - loss: 0.6104 - accuracy: 0.6696\n",
            "Epoch 170/200\n",
            "3172/3172 [==============================] - 0s 98us/step - loss: 0.6092 - accuracy: 0.6677\n",
            "Epoch 171/200\n",
            "3172/3172 [==============================] - 0s 99us/step - loss: 0.6086 - accuracy: 0.6750\n",
            "Epoch 172/200\n",
            "3172/3172 [==============================] - 0s 103us/step - loss: 0.6043 - accuracy: 0.6816\n",
            "Epoch 173/200\n",
            "3172/3172 [==============================] - 0s 97us/step - loss: 0.6126 - accuracy: 0.6671\n",
            "Epoch 174/200\n",
            "3172/3172 [==============================] - 0s 103us/step - loss: 0.6040 - accuracy: 0.6765\n",
            "Epoch 175/200\n",
            "3172/3172 [==============================] - 0s 99us/step - loss: 0.6116 - accuracy: 0.6696\n",
            "Epoch 176/200\n",
            "3172/3172 [==============================] - 0s 100us/step - loss: 0.6074 - accuracy: 0.6743\n",
            "Epoch 177/200\n",
            "3172/3172 [==============================] - 0s 116us/step - loss: 0.6115 - accuracy: 0.6665\n",
            "Epoch 178/200\n",
            "3172/3172 [==============================] - 0s 107us/step - loss: 0.6089 - accuracy: 0.6699\n",
            "Epoch 179/200\n",
            "3172/3172 [==============================] - 0s 106us/step - loss: 0.6061 - accuracy: 0.6668\n",
            "Epoch 180/200\n",
            "3172/3172 [==============================] - 0s 104us/step - loss: 0.6128 - accuracy: 0.6731\n",
            "Epoch 181/200\n",
            "3172/3172 [==============================] - 0s 102us/step - loss: 0.6093 - accuracy: 0.6699\n",
            "Epoch 182/200\n",
            "3172/3172 [==============================] - 0s 101us/step - loss: 0.6110 - accuracy: 0.6759\n",
            "Epoch 183/200\n",
            "3172/3172 [==============================] - 0s 103us/step - loss: 0.6098 - accuracy: 0.6737\n",
            "Epoch 184/200\n",
            "3172/3172 [==============================] - 0s 110us/step - loss: 0.6171 - accuracy: 0.6728\n",
            "Epoch 185/200\n",
            "3172/3172 [==============================] - 0s 98us/step - loss: 0.6152 - accuracy: 0.6784\n",
            "Epoch 186/200\n",
            "3172/3172 [==============================] - 0s 99us/step - loss: 0.6152 - accuracy: 0.6668\n",
            "Epoch 187/200\n",
            "3172/3172 [==============================] - 0s 106us/step - loss: 0.6121 - accuracy: 0.6800\n",
            "Epoch 188/200\n",
            "3172/3172 [==============================] - 0s 97us/step - loss: 0.6109 - accuracy: 0.6747\n",
            "Epoch 189/200\n",
            "3172/3172 [==============================] - 0s 105us/step - loss: 0.6058 - accuracy: 0.6775\n",
            "Epoch 190/200\n",
            "3172/3172 [==============================] - 0s 118us/step - loss: 0.6112 - accuracy: 0.6740\n",
            "Epoch 191/200\n",
            "3172/3172 [==============================] - 0s 105us/step - loss: 0.6077 - accuracy: 0.6791\n",
            "Epoch 192/200\n",
            "3172/3172 [==============================] - 0s 104us/step - loss: 0.6005 - accuracy: 0.6838\n",
            "Epoch 193/200\n",
            "3172/3172 [==============================] - 0s 104us/step - loss: 0.6073 - accuracy: 0.6765\n",
            "Epoch 194/200\n",
            "3172/3172 [==============================] - 0s 103us/step - loss: 0.6091 - accuracy: 0.6797\n",
            "Epoch 195/200\n",
            "3172/3172 [==============================] - 0s 104us/step - loss: 0.6082 - accuracy: 0.6712\n",
            "Epoch 196/200\n",
            "3172/3172 [==============================] - 0s 106us/step - loss: 0.6019 - accuracy: 0.6709\n",
            "Epoch 197/200\n",
            "3172/3172 [==============================] - 0s 103us/step - loss: 0.6030 - accuracy: 0.6800\n",
            "Epoch 198/200\n",
            "3172/3172 [==============================] - 0s 109us/step - loss: 0.6357 - accuracy: 0.6816\n",
            "Epoch 199/200\n",
            "3172/3172 [==============================] - 0s 107us/step - loss: 0.6126 - accuracy: 0.6778\n",
            "Epoch 200/200\n",
            "3172/3172 [==============================] - 0s 108us/step - loss: 0.6099 - accuracy: 0.6712\n"
          ],
          "name": "stdout"
        },
        {
          "output_type": "execute_result",
          "data": {
            "text/plain": [
              "<keras.callbacks.callbacks.History at 0x7f0a31645438>"
            ]
          },
          "metadata": {
            "tags": []
          },
          "execution_count": 130
        }
      ]
    },
    {
      "cell_type": "code",
      "metadata": {
        "id": "emSt_tg0toRF",
        "colab_type": "code",
        "colab": {
          "base_uri": "https://localhost:8080/",
          "height": 52
        },
        "outputId": "9b96c972-3476-43f4-d9bb-f910bc750994"
      },
      "source": [
        "_, accuracy = model.evaluate(X_test, y_test)\n",
        "print('Accuracy: %.2f' % (accuracy*100))"
      ],
      "execution_count": 131,
      "outputs": [
        {
          "output_type": "stream",
          "text": [
            "794/794 [==============================] - 0s 111us/step\n",
            "Accuracy: 66.50\n"
          ],
          "name": "stdout"
        }
      ]
    },
    {
      "cell_type": "code",
      "metadata": {
        "id": "XPC9nzFGu-WZ",
        "colab_type": "code",
        "colab": {
          "base_uri": "https://localhost:8080/",
          "height": 69
        },
        "outputId": "ca2caba4-dfc0-4f74-b9f6-19e0442d14d1"
      },
      "source": [
        "yhat_classes = model.predict_classes(X_test, verbose=0)\n",
        "# precision tp / (tp + fp)\n",
        "precision = precision_score(y_test, yhat_classes)\n",
        "print('Precision: %f' % precision)\n",
        "# recall: tp / (tp + fn)\n",
        "recall = recall_score(y_test, yhat_classes)\n",
        "print('Recall: %f' % recall)\n",
        "# f1: 2 tp / (2 tp + fp + fn)\n",
        "f1 = f1_score(y_test, yhat_classes)\n",
        "print('F1 score: %f' % f1)"
      ],
      "execution_count": 135,
      "outputs": [
        {
          "output_type": "stream",
          "text": [
            "Precision: 0.634783\n",
            "Recall: 0.245791\n",
            "F1 score: 0.354369\n"
          ],
          "name": "stdout"
        }
      ]
    },
    {
      "cell_type": "code",
      "metadata": {
        "id": "emDB4Tv_vovt",
        "colab_type": "code",
        "colab": {
          "base_uri": "https://localhost:8080/",
          "height": 1000
        },
        "outputId": "3f26ec4c-6980-4c37-ba13-fc71f0014eb0"
      },
      "source": [
        "model.compile(loss='binary_crossentropy',optimizer='adam',metrics=['accuracy'])\n",
        "model.fit(X_train,y_train,epochs=300,batch_size=50)"
      ],
      "execution_count": 136,
      "outputs": [
        {
          "output_type": "stream",
          "text": [
            "Epoch 1/300\n",
            "3172/3172 [==============================] - 1s 368us/step - loss: 0.6058 - accuracy: 0.6813\n",
            "Epoch 2/300\n",
            "3172/3172 [==============================] - 0s 121us/step - loss: 0.6065 - accuracy: 0.6731\n",
            "Epoch 3/300\n",
            "3172/3172 [==============================] - 0s 98us/step - loss: 0.6029 - accuracy: 0.6747\n",
            "Epoch 4/300\n",
            "3172/3172 [==============================] - 0s 91us/step - loss: 0.6054 - accuracy: 0.6810\n",
            "Epoch 5/300\n",
            "3172/3172 [==============================] - 0s 93us/step - loss: 0.6009 - accuracy: 0.6781\n",
            "Epoch 6/300\n",
            "3172/3172 [==============================] - 0s 93us/step - loss: 0.6075 - accuracy: 0.6879\n",
            "Epoch 7/300\n",
            "3172/3172 [==============================] - 0s 103us/step - loss: 0.6065 - accuracy: 0.6750\n",
            "Epoch 8/300\n",
            "3172/3172 [==============================] - 0s 90us/step - loss: 0.6024 - accuracy: 0.6835\n",
            "Epoch 9/300\n",
            "3172/3172 [==============================] - 0s 89us/step - loss: 0.6037 - accuracy: 0.6822\n",
            "Epoch 10/300\n",
            "3172/3172 [==============================] - 0s 90us/step - loss: 0.6037 - accuracy: 0.6822\n",
            "Epoch 11/300\n",
            "3172/3172 [==============================] - 0s 95us/step - loss: 0.6195 - accuracy: 0.6743\n",
            "Epoch 12/300\n",
            "3172/3172 [==============================] - 0s 88us/step - loss: 0.6134 - accuracy: 0.6724\n",
            "Epoch 13/300\n",
            "3172/3172 [==============================] - 0s 91us/step - loss: 0.6014 - accuracy: 0.6781\n",
            "Epoch 14/300\n",
            "3172/3172 [==============================] - 0s 93us/step - loss: 0.6097 - accuracy: 0.6806\n",
            "Epoch 15/300\n",
            "3172/3172 [==============================] - 0s 99us/step - loss: 0.6040 - accuracy: 0.6762\n",
            "Epoch 16/300\n",
            "3172/3172 [==============================] - 0s 105us/step - loss: 0.5987 - accuracy: 0.6854\n",
            "Epoch 17/300\n",
            "3172/3172 [==============================] - 0s 100us/step - loss: 0.6019 - accuracy: 0.6819\n",
            "Epoch 18/300\n",
            "3172/3172 [==============================] - 0s 92us/step - loss: 0.6071 - accuracy: 0.6800\n",
            "Epoch 19/300\n",
            "3172/3172 [==============================] - 0s 95us/step - loss: 0.6100 - accuracy: 0.6822\n",
            "Epoch 20/300\n",
            "3172/3172 [==============================] - 0s 92us/step - loss: 0.5986 - accuracy: 0.6769\n",
            "Epoch 21/300\n",
            "3172/3172 [==============================] - 0s 93us/step - loss: 0.6067 - accuracy: 0.6794\n",
            "Epoch 22/300\n",
            "3172/3172 [==============================] - 0s 92us/step - loss: 0.6144 - accuracy: 0.6828\n",
            "Epoch 23/300\n",
            "3172/3172 [==============================] - 0s 91us/step - loss: 0.6054 - accuracy: 0.6769\n",
            "Epoch 24/300\n",
            "3172/3172 [==============================] - 0s 90us/step - loss: 0.6017 - accuracy: 0.6775\n",
            "Epoch 25/300\n",
            "3172/3172 [==============================] - 0s 92us/step - loss: 0.5977 - accuracy: 0.6784\n",
            "Epoch 26/300\n",
            "3172/3172 [==============================] - 0s 87us/step - loss: 0.5992 - accuracy: 0.6851\n",
            "Epoch 27/300\n",
            "3172/3172 [==============================] - 0s 91us/step - loss: 0.6043 - accuracy: 0.6794\n",
            "Epoch 28/300\n",
            "3172/3172 [==============================] - 0s 89us/step - loss: 0.5943 - accuracy: 0.6869\n",
            "Epoch 29/300\n",
            "3172/3172 [==============================] - 0s 92us/step - loss: 0.6056 - accuracy: 0.6810\n",
            "Epoch 30/300\n",
            "3172/3172 [==============================] - 0s 93us/step - loss: 0.6140 - accuracy: 0.6778\n",
            "Epoch 31/300\n",
            "3172/3172 [==============================] - 0s 100us/step - loss: 0.6048 - accuracy: 0.6750\n",
            "Epoch 32/300\n",
            "3172/3172 [==============================] - 0s 93us/step - loss: 0.6109 - accuracy: 0.6816\n",
            "Epoch 33/300\n",
            "3172/3172 [==============================] - 0s 96us/step - loss: 0.6000 - accuracy: 0.6869\n",
            "Epoch 34/300\n",
            "3172/3172 [==============================] - 0s 90us/step - loss: 0.5904 - accuracy: 0.6844\n",
            "Epoch 35/300\n",
            "3172/3172 [==============================] - 0s 90us/step - loss: 0.6046 - accuracy: 0.6806\n",
            "Epoch 36/300\n",
            "3172/3172 [==============================] - 0s 89us/step - loss: 0.6048 - accuracy: 0.6721\n",
            "Epoch 37/300\n",
            "3172/3172 [==============================] - 0s 90us/step - loss: 0.6047 - accuracy: 0.6781\n",
            "Epoch 38/300\n",
            "3172/3172 [==============================] - 0s 89us/step - loss: 0.6002 - accuracy: 0.6794\n",
            "Epoch 39/300\n",
            "3172/3172 [==============================] - 0s 91us/step - loss: 0.6022 - accuracy: 0.6828\n",
            "Epoch 40/300\n",
            "3172/3172 [==============================] - 0s 94us/step - loss: 0.6036 - accuracy: 0.6819\n",
            "Epoch 41/300\n",
            "3172/3172 [==============================] - 0s 88us/step - loss: 0.6022 - accuracy: 0.6791\n",
            "Epoch 42/300\n",
            "3172/3172 [==============================] - 0s 97us/step - loss: 0.5969 - accuracy: 0.6816\n",
            "Epoch 43/300\n",
            "3172/3172 [==============================] - 0s 96us/step - loss: 0.6103 - accuracy: 0.6819\n",
            "Epoch 44/300\n",
            "3172/3172 [==============================] - 0s 92us/step - loss: 0.6038 - accuracy: 0.6800\n",
            "Epoch 45/300\n",
            "3172/3172 [==============================] - 0s 88us/step - loss: 0.6001 - accuracy: 0.6784\n",
            "Epoch 46/300\n",
            "3172/3172 [==============================] - 0s 97us/step - loss: 0.5979 - accuracy: 0.6759\n",
            "Epoch 47/300\n",
            "3172/3172 [==============================] - 0s 94us/step - loss: 0.6035 - accuracy: 0.6769\n",
            "Epoch 48/300\n",
            "3172/3172 [==============================] - 0s 94us/step - loss: 0.6038 - accuracy: 0.6816\n",
            "Epoch 49/300\n",
            "3172/3172 [==============================] - 0s 89us/step - loss: 0.5934 - accuracy: 0.6828\n",
            "Epoch 50/300\n",
            "3172/3172 [==============================] - 0s 89us/step - loss: 0.6113 - accuracy: 0.6747\n",
            "Epoch 51/300\n",
            "3172/3172 [==============================] - 0s 91us/step - loss: 0.6048 - accuracy: 0.6747\n",
            "Epoch 52/300\n",
            "3172/3172 [==============================] - 0s 93us/step - loss: 0.6092 - accuracy: 0.6803\n",
            "Epoch 53/300\n",
            "3172/3172 [==============================] - 0s 105us/step - loss: 0.6021 - accuracy: 0.6750\n",
            "Epoch 54/300\n",
            "3172/3172 [==============================] - 0s 100us/step - loss: 0.6249 - accuracy: 0.6724\n",
            "Epoch 55/300\n",
            "3172/3172 [==============================] - 0s 89us/step - loss: 0.6263 - accuracy: 0.6693\n",
            "Epoch 56/300\n",
            "3172/3172 [==============================] - 0s 90us/step - loss: 0.6212 - accuracy: 0.6747\n",
            "Epoch 57/300\n",
            "3172/3172 [==============================] - 0s 89us/step - loss: 0.6177 - accuracy: 0.6715\n",
            "Epoch 58/300\n",
            "3172/3172 [==============================] - 0s 89us/step - loss: 0.6135 - accuracy: 0.6702\n",
            "Epoch 59/300\n",
            "3172/3172 [==============================] - 0s 92us/step - loss: 0.6158 - accuracy: 0.6781\n",
            "Epoch 60/300\n",
            "3172/3172 [==============================] - 0s 89us/step - loss: 0.6131 - accuracy: 0.6734\n",
            "Epoch 61/300\n",
            "3172/3172 [==============================] - 0s 88us/step - loss: 0.6185 - accuracy: 0.6680\n",
            "Epoch 62/300\n",
            "3172/3172 [==============================] - 0s 99us/step - loss: 0.6148 - accuracy: 0.6709\n",
            "Epoch 63/300\n",
            "3172/3172 [==============================] - 0s 91us/step - loss: 0.6101 - accuracy: 0.6772\n",
            "Epoch 64/300\n",
            "3172/3172 [==============================] - 0s 89us/step - loss: 0.6133 - accuracy: 0.6759\n",
            "Epoch 65/300\n",
            "3172/3172 [==============================] - 0s 92us/step - loss: 0.6083 - accuracy: 0.6772\n",
            "Epoch 66/300\n",
            "3172/3172 [==============================] - 0s 91us/step - loss: 0.6120 - accuracy: 0.6702\n",
            "Epoch 67/300\n",
            "3172/3172 [==============================] - 0s 101us/step - loss: 0.6136 - accuracy: 0.6743\n",
            "Epoch 68/300\n",
            "3172/3172 [==============================] - 0s 96us/step - loss: 0.6103 - accuracy: 0.6724\n",
            "Epoch 69/300\n",
            "3172/3172 [==============================] - 0s 94us/step - loss: 0.6086 - accuracy: 0.6759\n",
            "Epoch 70/300\n",
            "3172/3172 [==============================] - 0s 91us/step - loss: 0.6112 - accuracy: 0.6810\n",
            "Epoch 71/300\n",
            "3172/3172 [==============================] - 0s 89us/step - loss: 0.6075 - accuracy: 0.6803\n",
            "Epoch 72/300\n",
            "3172/3172 [==============================] - 0s 93us/step - loss: 0.6098 - accuracy: 0.6699\n",
            "Epoch 73/300\n",
            "3172/3172 [==============================] - 0s 93us/step - loss: 0.6040 - accuracy: 0.6788\n",
            "Epoch 74/300\n",
            "3172/3172 [==============================] - 0s 91us/step - loss: 0.6091 - accuracy: 0.6737\n",
            "Epoch 75/300\n",
            "3172/3172 [==============================] - 0s 89us/step - loss: 0.6020 - accuracy: 0.6825\n",
            "Epoch 76/300\n",
            "3172/3172 [==============================] - 0s 96us/step - loss: 0.6116 - accuracy: 0.6750\n",
            "Epoch 77/300\n",
            "3172/3172 [==============================] - 0s 102us/step - loss: 0.6059 - accuracy: 0.6772\n",
            "Epoch 78/300\n",
            "3172/3172 [==============================] - 0s 104us/step - loss: 0.6071 - accuracy: 0.6769\n",
            "Epoch 79/300\n",
            "3172/3172 [==============================] - 0s 91us/step - loss: 0.6051 - accuracy: 0.6800\n",
            "Epoch 80/300\n",
            "3172/3172 [==============================] - 0s 96us/step - loss: 0.6107 - accuracy: 0.6778\n",
            "Epoch 81/300\n",
            "3172/3172 [==============================] - 0s 93us/step - loss: 0.6119 - accuracy: 0.6715\n",
            "Epoch 82/300\n",
            "3172/3172 [==============================] - 0s 93us/step - loss: 0.6078 - accuracy: 0.6753\n",
            "Epoch 83/300\n",
            "3172/3172 [==============================] - 0s 100us/step - loss: 0.6027 - accuracy: 0.6756\n",
            "Epoch 84/300\n",
            "3172/3172 [==============================] - 0s 104us/step - loss: 0.6050 - accuracy: 0.6759\n",
            "Epoch 85/300\n",
            "3172/3172 [==============================] - 0s 96us/step - loss: 0.6056 - accuracy: 0.6803\n",
            "Epoch 86/300\n",
            "3172/3172 [==============================] - 0s 96us/step - loss: 0.6084 - accuracy: 0.6747\n",
            "Epoch 87/300\n",
            "3172/3172 [==============================] - 0s 98us/step - loss: 0.6070 - accuracy: 0.6775\n",
            "Epoch 88/300\n",
            "3172/3172 [==============================] - 0s 100us/step - loss: 0.6051 - accuracy: 0.6753\n",
            "Epoch 89/300\n",
            "3172/3172 [==============================] - 0s 91us/step - loss: 0.6100 - accuracy: 0.6800\n",
            "Epoch 90/300\n",
            "3172/3172 [==============================] - 0s 88us/step - loss: 0.6067 - accuracy: 0.6816\n",
            "Epoch 91/300\n",
            "3172/3172 [==============================] - 0s 89us/step - loss: 0.6093 - accuracy: 0.6718\n",
            "Epoch 92/300\n",
            "3172/3172 [==============================] - 0s 92us/step - loss: 0.5992 - accuracy: 0.6794\n",
            "Epoch 93/300\n",
            "3172/3172 [==============================] - 0s 99us/step - loss: 0.6035 - accuracy: 0.6750\n",
            "Epoch 94/300\n",
            "3172/3172 [==============================] - 0s 96us/step - loss: 0.6030 - accuracy: 0.6794\n",
            "Epoch 95/300\n",
            "3172/3172 [==============================] - 0s 91us/step - loss: 0.6019 - accuracy: 0.6788\n",
            "Epoch 96/300\n",
            "3172/3172 [==============================] - 0s 99us/step - loss: 0.6006 - accuracy: 0.6784\n",
            "Epoch 97/300\n",
            "3172/3172 [==============================] - 0s 98us/step - loss: 0.5982 - accuracy: 0.6759\n",
            "Epoch 98/300\n",
            "3172/3172 [==============================] - 0s 93us/step - loss: 0.6061 - accuracy: 0.6781\n",
            "Epoch 99/300\n",
            "3172/3172 [==============================] - 0s 92us/step - loss: 0.5976 - accuracy: 0.6825\n",
            "Epoch 100/300\n",
            "3172/3172 [==============================] - 0s 92us/step - loss: 0.6025 - accuracy: 0.6784\n",
            "Epoch 101/300\n",
            "3172/3172 [==============================] - 0s 89us/step - loss: 0.5996 - accuracy: 0.6784\n",
            "Epoch 102/300\n",
            "3172/3172 [==============================] - 0s 88us/step - loss: 0.6008 - accuracy: 0.6800\n",
            "Epoch 103/300\n",
            "3172/3172 [==============================] - 0s 88us/step - loss: 0.6016 - accuracy: 0.6775\n",
            "Epoch 104/300\n",
            "3172/3172 [==============================] - 0s 93us/step - loss: 0.5962 - accuracy: 0.6822\n",
            "Epoch 105/300\n",
            "3172/3172 [==============================] - 0s 96us/step - loss: 0.6013 - accuracy: 0.6876\n",
            "Epoch 106/300\n",
            "3172/3172 [==============================] - 0s 97us/step - loss: 0.5985 - accuracy: 0.6775\n",
            "Epoch 107/300\n",
            "3172/3172 [==============================] - 0s 92us/step - loss: 0.6043 - accuracy: 0.6788\n",
            "Epoch 108/300\n",
            "3172/3172 [==============================] - 0s 89us/step - loss: 0.5953 - accuracy: 0.6847\n",
            "Epoch 109/300\n",
            "3172/3172 [==============================] - 0s 86us/step - loss: 0.6029 - accuracy: 0.6822\n",
            "Epoch 110/300\n",
            "3172/3172 [==============================] - 0s 83us/step - loss: 0.6041 - accuracy: 0.6778\n",
            "Epoch 111/300\n",
            "3172/3172 [==============================] - 0s 89us/step - loss: 0.6082 - accuracy: 0.6756\n",
            "Epoch 112/300\n",
            "3172/3172 [==============================] - 0s 88us/step - loss: 0.6119 - accuracy: 0.6753\n",
            "Epoch 113/300\n",
            "3172/3172 [==============================] - 0s 87us/step - loss: 0.6074 - accuracy: 0.6832\n",
            "Epoch 114/300\n",
            "3172/3172 [==============================] - 0s 88us/step - loss: 0.6022 - accuracy: 0.6816\n",
            "Epoch 115/300\n",
            "3172/3172 [==============================] - 0s 88us/step - loss: 0.6012 - accuracy: 0.6822\n",
            "Epoch 116/300\n",
            "3172/3172 [==============================] - 0s 91us/step - loss: 0.6006 - accuracy: 0.6816\n",
            "Epoch 117/300\n",
            "3172/3172 [==============================] - 0s 96us/step - loss: 0.5975 - accuracy: 0.6813\n",
            "Epoch 118/300\n",
            "3172/3172 [==============================] - 0s 91us/step - loss: 0.6044 - accuracy: 0.6756\n",
            "Epoch 119/300\n",
            "3172/3172 [==============================] - 0s 86us/step - loss: 0.6003 - accuracy: 0.6781\n",
            "Epoch 120/300\n",
            "3172/3172 [==============================] - 0s 96us/step - loss: 0.6054 - accuracy: 0.6806\n",
            "Epoch 121/300\n",
            "3172/3172 [==============================] - 0s 95us/step - loss: 0.6024 - accuracy: 0.6838\n",
            "Epoch 122/300\n",
            "3172/3172 [==============================] - 0s 91us/step - loss: 0.6109 - accuracy: 0.6800\n",
            "Epoch 123/300\n",
            "3172/3172 [==============================] - 0s 90us/step - loss: 0.6006 - accuracy: 0.6740\n",
            "Epoch 124/300\n",
            "3172/3172 [==============================] - 0s 89us/step - loss: 0.6030 - accuracy: 0.6791\n",
            "Epoch 125/300\n",
            "3172/3172 [==============================] - 0s 87us/step - loss: 0.5984 - accuracy: 0.6841\n",
            "Epoch 126/300\n",
            "3172/3172 [==============================] - 0s 98us/step - loss: 0.6017 - accuracy: 0.6806\n",
            "Epoch 127/300\n",
            "3172/3172 [==============================] - 0s 94us/step - loss: 0.6004 - accuracy: 0.6769\n",
            "Epoch 128/300\n",
            "3172/3172 [==============================] - 0s 92us/step - loss: 0.5932 - accuracy: 0.6847\n",
            "Epoch 129/300\n",
            "3172/3172 [==============================] - 0s 91us/step - loss: 0.6015 - accuracy: 0.6825\n",
            "Epoch 130/300\n",
            "3172/3172 [==============================] - 0s 94us/step - loss: 0.6032 - accuracy: 0.6788\n",
            "Epoch 131/300\n",
            "3172/3172 [==============================] - 0s 90us/step - loss: 0.6019 - accuracy: 0.6797\n",
            "Epoch 132/300\n",
            "3172/3172 [==============================] - 0s 96us/step - loss: 0.6026 - accuracy: 0.6756\n",
            "Epoch 133/300\n",
            "3172/3172 [==============================] - 0s 97us/step - loss: 0.6082 - accuracy: 0.6743\n",
            "Epoch 134/300\n",
            "3172/3172 [==============================] - 0s 103us/step - loss: 0.5954 - accuracy: 0.6819\n",
            "Epoch 135/300\n",
            "3172/3172 [==============================] - 0s 100us/step - loss: 0.6039 - accuracy: 0.6851\n",
            "Epoch 136/300\n",
            "3172/3172 [==============================] - 0s 93us/step - loss: 0.6003 - accuracy: 0.6907\n",
            "Epoch 137/300\n",
            "3172/3172 [==============================] - 0s 90us/step - loss: 0.6014 - accuracy: 0.6734\n",
            "Epoch 138/300\n",
            "3172/3172 [==============================] - 0s 95us/step - loss: 0.5980 - accuracy: 0.6803\n",
            "Epoch 139/300\n",
            "3172/3172 [==============================] - 0s 93us/step - loss: 0.5942 - accuracy: 0.6854\n",
            "Epoch 140/300\n",
            "3172/3172 [==============================] - 0s 96us/step - loss: 0.5997 - accuracy: 0.6788\n",
            "Epoch 141/300\n",
            "3172/3172 [==============================] - 0s 97us/step - loss: 0.5918 - accuracy: 0.6854\n",
            "Epoch 142/300\n",
            "3172/3172 [==============================] - 0s 93us/step - loss: 0.6061 - accuracy: 0.6753\n",
            "Epoch 143/300\n",
            "3172/3172 [==============================] - 0s 88us/step - loss: 0.5998 - accuracy: 0.6791\n",
            "Epoch 144/300\n",
            "3172/3172 [==============================] - 0s 86us/step - loss: 0.5924 - accuracy: 0.6797\n",
            "Epoch 145/300\n",
            "3172/3172 [==============================] - 0s 89us/step - loss: 0.6045 - accuracy: 0.6841\n",
            "Epoch 146/300\n",
            "3172/3172 [==============================] - 0s 90us/step - loss: 0.6094 - accuracy: 0.6753\n",
            "Epoch 147/300\n",
            "3172/3172 [==============================] - 0s 97us/step - loss: 0.6069 - accuracy: 0.6778\n",
            "Epoch 148/300\n",
            "3172/3172 [==============================] - 0s 99us/step - loss: 0.5947 - accuracy: 0.6863\n",
            "Epoch 149/300\n",
            "3172/3172 [==============================] - 0s 93us/step - loss: 0.5953 - accuracy: 0.6882\n",
            "Epoch 150/300\n",
            "3172/3172 [==============================] - 0s 83us/step - loss: 0.6033 - accuracy: 0.6756\n",
            "Epoch 151/300\n",
            "3172/3172 [==============================] - 0s 82us/step - loss: 0.6055 - accuracy: 0.6709\n",
            "Epoch 152/300\n",
            "3172/3172 [==============================] - 0s 86us/step - loss: 0.5984 - accuracy: 0.6788\n",
            "Epoch 153/300\n",
            "3172/3172 [==============================] - 0s 87us/step - loss: 0.6039 - accuracy: 0.6759\n",
            "Epoch 154/300\n",
            "3172/3172 [==============================] - 0s 87us/step - loss: 0.6023 - accuracy: 0.6828\n",
            "Epoch 155/300\n",
            "3172/3172 [==============================] - 0s 85us/step - loss: 0.5987 - accuracy: 0.6832\n",
            "Epoch 156/300\n",
            "3172/3172 [==============================] - 0s 88us/step - loss: 0.5984 - accuracy: 0.6791\n",
            "Epoch 157/300\n",
            "3172/3172 [==============================] - 0s 87us/step - loss: 0.5977 - accuracy: 0.6794\n",
            "Epoch 158/300\n",
            "3172/3172 [==============================] - 0s 86us/step - loss: 0.5949 - accuracy: 0.6806\n",
            "Epoch 159/300\n",
            "3172/3172 [==============================] - 0s 87us/step - loss: 0.5977 - accuracy: 0.6737\n",
            "Epoch 160/300\n",
            "3172/3172 [==============================] - 0s 91us/step - loss: 0.6000 - accuracy: 0.6816\n",
            "Epoch 161/300\n",
            "3172/3172 [==============================] - 0s 90us/step - loss: 0.6019 - accuracy: 0.6794\n",
            "Epoch 162/300\n",
            "3172/3172 [==============================] - 0s 92us/step - loss: 0.5970 - accuracy: 0.6825\n",
            "Epoch 163/300\n",
            "3172/3172 [==============================] - 0s 89us/step - loss: 0.6048 - accuracy: 0.6800\n",
            "Epoch 164/300\n",
            "3172/3172 [==============================] - 0s 95us/step - loss: 0.5982 - accuracy: 0.6794\n",
            "Epoch 165/300\n",
            "3172/3172 [==============================] - 0s 93us/step - loss: 0.6024 - accuracy: 0.6810\n",
            "Epoch 166/300\n",
            "3172/3172 [==============================] - 0s 98us/step - loss: 0.6071 - accuracy: 0.6819\n",
            "Epoch 167/300\n",
            "3172/3172 [==============================] - 0s 97us/step - loss: 0.5970 - accuracy: 0.6832\n",
            "Epoch 168/300\n",
            "3172/3172 [==============================] - 0s 88us/step - loss: 0.5995 - accuracy: 0.6784\n",
            "Epoch 169/300\n",
            "3172/3172 [==============================] - 0s 92us/step - loss: 0.6098 - accuracy: 0.6803\n",
            "Epoch 170/300\n",
            "3172/3172 [==============================] - 0s 100us/step - loss: 0.6092 - accuracy: 0.6825\n",
            "Epoch 171/300\n",
            "3172/3172 [==============================] - 0s 86us/step - loss: 0.5947 - accuracy: 0.6844\n",
            "Epoch 172/300\n",
            "3172/3172 [==============================] - 0s 86us/step - loss: 0.5997 - accuracy: 0.6844\n",
            "Epoch 173/300\n",
            "3172/3172 [==============================] - 0s 88us/step - loss: 0.5998 - accuracy: 0.6828\n",
            "Epoch 174/300\n",
            "3172/3172 [==============================] - 0s 94us/step - loss: 0.5982 - accuracy: 0.6822\n",
            "Epoch 175/300\n",
            "3172/3172 [==============================] - 0s 98us/step - loss: 0.5907 - accuracy: 0.6832\n",
            "Epoch 176/300\n",
            "3172/3172 [==============================] - 0s 102us/step - loss: 0.6076 - accuracy: 0.6781\n",
            "Epoch 177/300\n",
            "3172/3172 [==============================] - 0s 97us/step - loss: 0.6026 - accuracy: 0.6841\n",
            "Epoch 178/300\n",
            "3172/3172 [==============================] - 0s 95us/step - loss: 0.5973 - accuracy: 0.6847\n",
            "Epoch 179/300\n",
            "3172/3172 [==============================] - 0s 100us/step - loss: 0.5965 - accuracy: 0.6866\n",
            "Epoch 180/300\n",
            "3172/3172 [==============================] - 0s 100us/step - loss: 0.6014 - accuracy: 0.6797\n",
            "Epoch 181/300\n",
            "3172/3172 [==============================] - 0s 90us/step - loss: 0.5978 - accuracy: 0.6816\n",
            "Epoch 182/300\n",
            "3172/3172 [==============================] - 0s 90us/step - loss: 0.6008 - accuracy: 0.6791\n",
            "Epoch 183/300\n",
            "3172/3172 [==============================] - 0s 90us/step - loss: 0.5972 - accuracy: 0.6806\n",
            "Epoch 184/300\n",
            "3172/3172 [==============================] - 0s 86us/step - loss: 0.5941 - accuracy: 0.6844\n",
            "Epoch 185/300\n",
            "3172/3172 [==============================] - 0s 83us/step - loss: 0.5955 - accuracy: 0.6750\n",
            "Epoch 186/300\n",
            "3172/3172 [==============================] - 0s 89us/step - loss: 0.5943 - accuracy: 0.6813\n",
            "Epoch 187/300\n",
            "3172/3172 [==============================] - 0s 92us/step - loss: 0.6074 - accuracy: 0.6838\n",
            "Epoch 188/300\n",
            "3172/3172 [==============================] - 0s 89us/step - loss: 0.6010 - accuracy: 0.6816\n",
            "Epoch 189/300\n",
            "3172/3172 [==============================] - 0s 96us/step - loss: 0.6045 - accuracy: 0.6778\n",
            "Epoch 190/300\n",
            "3172/3172 [==============================] - 0s 101us/step - loss: 0.6050 - accuracy: 0.6797\n",
            "Epoch 191/300\n",
            "3172/3172 [==============================] - 0s 88us/step - loss: 0.5959 - accuracy: 0.6828\n",
            "Epoch 192/300\n",
            "3172/3172 [==============================] - 0s 97us/step - loss: 0.6194 - accuracy: 0.6781\n",
            "Epoch 193/300\n",
            "3172/3172 [==============================] - 0s 90us/step - loss: 0.6262 - accuracy: 0.6630\n",
            "Epoch 194/300\n",
            "3172/3172 [==============================] - 0s 94us/step - loss: 0.6164 - accuracy: 0.6762\n",
            "Epoch 195/300\n",
            "3172/3172 [==============================] - 0s 87us/step - loss: 0.6163 - accuracy: 0.6709\n",
            "Epoch 196/300\n",
            "3172/3172 [==============================] - 0s 86us/step - loss: 0.6117 - accuracy: 0.6769\n",
            "Epoch 197/300\n",
            "3172/3172 [==============================] - 0s 91us/step - loss: 0.6009 - accuracy: 0.6841\n",
            "Epoch 198/300\n",
            "3172/3172 [==============================] - 0s 88us/step - loss: 0.6050 - accuracy: 0.6753\n",
            "Epoch 199/300\n",
            "3172/3172 [==============================] - 0s 88us/step - loss: 0.5988 - accuracy: 0.6803\n",
            "Epoch 200/300\n",
            "3172/3172 [==============================] - 0s 85us/step - loss: 0.6067 - accuracy: 0.6788\n",
            "Epoch 201/300\n",
            "3172/3172 [==============================] - 0s 89us/step - loss: 0.6097 - accuracy: 0.6753\n",
            "Epoch 202/300\n",
            "3172/3172 [==============================] - 0s 87us/step - loss: 0.5989 - accuracy: 0.6797\n",
            "Epoch 203/300\n",
            "3172/3172 [==============================] - 0s 83us/step - loss: 0.5993 - accuracy: 0.6828\n",
            "Epoch 204/300\n",
            "3172/3172 [==============================] - 0s 84us/step - loss: 0.5985 - accuracy: 0.6838\n",
            "Epoch 205/300\n",
            "3172/3172 [==============================] - 0s 92us/step - loss: 0.6014 - accuracy: 0.6791\n",
            "Epoch 206/300\n",
            "3172/3172 [==============================] - 0s 93us/step - loss: 0.5995 - accuracy: 0.6769\n",
            "Epoch 207/300\n",
            "3172/3172 [==============================] - 0s 104us/step - loss: 0.6019 - accuracy: 0.6781\n",
            "Epoch 208/300\n",
            "3172/3172 [==============================] - 0s 93us/step - loss: 0.6019 - accuracy: 0.6784\n",
            "Epoch 209/300\n",
            "3172/3172 [==============================] - 0s 90us/step - loss: 0.6037 - accuracy: 0.6885\n",
            "Epoch 210/300\n",
            "3172/3172 [==============================] - 0s 85us/step - loss: 0.6009 - accuracy: 0.6847\n",
            "Epoch 211/300\n",
            "3172/3172 [==============================] - 0s 87us/step - loss: 0.6042 - accuracy: 0.6706\n",
            "Epoch 212/300\n",
            "3172/3172 [==============================] - 0s 89us/step - loss: 0.6041 - accuracy: 0.6806\n",
            "Epoch 213/300\n",
            "3172/3172 [==============================] - 0s 87us/step - loss: 0.5989 - accuracy: 0.6819\n",
            "Epoch 214/300\n",
            "3172/3172 [==============================] - 0s 90us/step - loss: 0.5991 - accuracy: 0.6791\n",
            "Epoch 215/300\n",
            "3172/3172 [==============================] - 0s 89us/step - loss: 0.5999 - accuracy: 0.6743\n",
            "Epoch 216/300\n",
            "3172/3172 [==============================] - 0s 98us/step - loss: 0.5973 - accuracy: 0.6863\n",
            "Epoch 217/300\n",
            "3172/3172 [==============================] - 0s 87us/step - loss: 0.5957 - accuracy: 0.6895\n",
            "Epoch 218/300\n",
            "3172/3172 [==============================] - 0s 87us/step - loss: 0.5999 - accuracy: 0.6778\n",
            "Epoch 219/300\n",
            "3172/3172 [==============================] - 0s 88us/step - loss: 0.6116 - accuracy: 0.6778\n",
            "Epoch 220/300\n",
            "3172/3172 [==============================] - 0s 85us/step - loss: 0.6012 - accuracy: 0.6797\n",
            "Epoch 221/300\n",
            "3172/3172 [==============================] - 0s 84us/step - loss: 0.5999 - accuracy: 0.6847\n",
            "Epoch 222/300\n",
            "3172/3172 [==============================] - 0s 89us/step - loss: 0.6023 - accuracy: 0.6819\n",
            "Epoch 223/300\n",
            "3172/3172 [==============================] - 0s 84us/step - loss: 0.5997 - accuracy: 0.6825\n",
            "Epoch 224/300\n",
            "3172/3172 [==============================] - 0s 84us/step - loss: 0.5941 - accuracy: 0.6841\n",
            "Epoch 225/300\n",
            "3172/3172 [==============================] - 0s 84us/step - loss: 0.6062 - accuracy: 0.6794\n",
            "Epoch 226/300\n",
            "3172/3172 [==============================] - 0s 99us/step - loss: 0.5971 - accuracy: 0.6863\n",
            "Epoch 227/300\n",
            "3172/3172 [==============================] - 0s 90us/step - loss: 0.5927 - accuracy: 0.6784\n",
            "Epoch 228/300\n",
            "3172/3172 [==============================] - 0s 88us/step - loss: 0.5933 - accuracy: 0.6803\n",
            "Epoch 229/300\n",
            "3172/3172 [==============================] - 0s 90us/step - loss: 0.6005 - accuracy: 0.6813\n",
            "Epoch 230/300\n",
            "3172/3172 [==============================] - 0s 92us/step - loss: 0.5963 - accuracy: 0.6832\n",
            "Epoch 231/300\n",
            "3172/3172 [==============================] - 0s 100us/step - loss: 0.5978 - accuracy: 0.6784\n",
            "Epoch 232/300\n",
            "3172/3172 [==============================] - 0s 99us/step - loss: 0.6020 - accuracy: 0.6825\n",
            "Epoch 233/300\n",
            "3172/3172 [==============================] - 0s 94us/step - loss: 0.6254 - accuracy: 0.6548\n",
            "Epoch 234/300\n",
            "3172/3172 [==============================] - 0s 101us/step - loss: 0.6227 - accuracy: 0.6627\n",
            "Epoch 235/300\n",
            "3172/3172 [==============================] - 0s 98us/step - loss: 0.6209 - accuracy: 0.6573\n",
            "Epoch 236/300\n",
            "3172/3172 [==============================] - 0s 100us/step - loss: 0.6200 - accuracy: 0.6709\n",
            "Epoch 237/300\n",
            "3172/3172 [==============================] - 0s 87us/step - loss: 0.6129 - accuracy: 0.6784\n",
            "Epoch 238/300\n",
            "3172/3172 [==============================] - 0s 100us/step - loss: 0.6080 - accuracy: 0.6794\n",
            "Epoch 239/300\n",
            "3172/3172 [==============================] - 0s 95us/step - loss: 0.6079 - accuracy: 0.6800\n",
            "Epoch 240/300\n",
            "3172/3172 [==============================] - 0s 87us/step - loss: 0.6093 - accuracy: 0.6810\n",
            "Epoch 241/300\n",
            "3172/3172 [==============================] - 0s 85us/step - loss: 0.6042 - accuracy: 0.6822\n",
            "Epoch 242/300\n",
            "3172/3172 [==============================] - 0s 87us/step - loss: 0.6058 - accuracy: 0.6800\n",
            "Epoch 243/300\n",
            "3172/3172 [==============================] - 0s 93us/step - loss: 0.6060 - accuracy: 0.6759\n",
            "Epoch 244/300\n",
            "3172/3172 [==============================] - 0s 86us/step - loss: 0.6037 - accuracy: 0.6822\n",
            "Epoch 245/300\n",
            "3172/3172 [==============================] - 0s 86us/step - loss: 0.6002 - accuracy: 0.6917\n",
            "Epoch 246/300\n",
            "3172/3172 [==============================] - 0s 84us/step - loss: 0.5986 - accuracy: 0.6869\n",
            "Epoch 247/300\n",
            "3172/3172 [==============================] - 0s 92us/step - loss: 0.6000 - accuracy: 0.6832\n",
            "Epoch 248/300\n",
            "3172/3172 [==============================] - 0s 84us/step - loss: 0.5957 - accuracy: 0.6895\n",
            "Epoch 249/300\n",
            "3172/3172 [==============================] - 0s 86us/step - loss: 0.5977 - accuracy: 0.6835\n",
            "Epoch 250/300\n",
            "3172/3172 [==============================] - 0s 94us/step - loss: 0.5961 - accuracy: 0.6781\n",
            "Epoch 251/300\n",
            "3172/3172 [==============================] - 0s 89us/step - loss: 0.6000 - accuracy: 0.6838\n",
            "Epoch 252/300\n",
            "3172/3172 [==============================] - 0s 88us/step - loss: 0.5908 - accuracy: 0.6857\n",
            "Epoch 253/300\n",
            "3172/3172 [==============================] - 0s 93us/step - loss: 0.5969 - accuracy: 0.6847\n",
            "Epoch 254/300\n",
            "3172/3172 [==============================] - 0s 90us/step - loss: 0.5959 - accuracy: 0.6847\n",
            "Epoch 255/300\n",
            "3172/3172 [==============================] - 0s 86us/step - loss: 0.5983 - accuracy: 0.6819\n",
            "Epoch 256/300\n",
            "3172/3172 [==============================] - 0s 95us/step - loss: 0.5959 - accuracy: 0.6819\n",
            "Epoch 257/300\n",
            "3172/3172 [==============================] - 0s 93us/step - loss: 0.5982 - accuracy: 0.6882\n",
            "Epoch 258/300\n",
            "3172/3172 [==============================] - 0s 86us/step - loss: 0.5978 - accuracy: 0.6803\n",
            "Epoch 259/300\n",
            "3172/3172 [==============================] - 0s 92us/step - loss: 0.5960 - accuracy: 0.6907\n",
            "Epoch 260/300\n",
            "3172/3172 [==============================] - 0s 98us/step - loss: 0.5962 - accuracy: 0.6869\n",
            "Epoch 261/300\n",
            "3172/3172 [==============================] - 0s 89us/step - loss: 0.5889 - accuracy: 0.6942\n",
            "Epoch 262/300\n",
            "3172/3172 [==============================] - 0s 88us/step - loss: 0.5985 - accuracy: 0.6828\n",
            "Epoch 263/300\n",
            "3172/3172 [==============================] - 0s 100us/step - loss: 0.6008 - accuracy: 0.6715\n",
            "Epoch 264/300\n",
            "3172/3172 [==============================] - 0s 95us/step - loss: 0.5963 - accuracy: 0.6806\n",
            "Epoch 265/300\n",
            "3172/3172 [==============================] - 0s 86us/step - loss: 0.5961 - accuracy: 0.6844\n",
            "Epoch 266/300\n",
            "3172/3172 [==============================] - 0s 84us/step - loss: 0.6012 - accuracy: 0.6806\n",
            "Epoch 267/300\n",
            "3172/3172 [==============================] - 0s 88us/step - loss: 0.5947 - accuracy: 0.6813\n",
            "Epoch 268/300\n",
            "3172/3172 [==============================] - 0s 88us/step - loss: 0.6023 - accuracy: 0.6828\n",
            "Epoch 269/300\n",
            "3172/3172 [==============================] - 0s 87us/step - loss: 0.6023 - accuracy: 0.6816\n",
            "Epoch 270/300\n",
            "3172/3172 [==============================] - 0s 88us/step - loss: 0.5988 - accuracy: 0.6797\n",
            "Epoch 271/300\n",
            "3172/3172 [==============================] - 0s 89us/step - loss: 0.5988 - accuracy: 0.6866\n",
            "Epoch 272/300\n",
            "3172/3172 [==============================] - 0s 93us/step - loss: 0.5936 - accuracy: 0.6907\n",
            "Epoch 273/300\n",
            "3172/3172 [==============================] - 0s 87us/step - loss: 0.5975 - accuracy: 0.6819\n",
            "Epoch 274/300\n",
            "3172/3172 [==============================] - 0s 87us/step - loss: 0.5933 - accuracy: 0.6803\n",
            "Epoch 275/300\n",
            "3172/3172 [==============================] - 0s 88us/step - loss: 0.5963 - accuracy: 0.6822\n",
            "Epoch 276/300\n",
            "3172/3172 [==============================] - 0s 82us/step - loss: 0.5954 - accuracy: 0.6788\n",
            "Epoch 277/300\n",
            "3172/3172 [==============================] - 0s 87us/step - loss: 0.5961 - accuracy: 0.6819\n",
            "Epoch 278/300\n",
            "3172/3172 [==============================] - 0s 84us/step - loss: 0.5975 - accuracy: 0.6885\n",
            "Epoch 279/300\n",
            "3172/3172 [==============================] - 0s 92us/step - loss: 0.5943 - accuracy: 0.6898\n",
            "Epoch 280/300\n",
            "3172/3172 [==============================] - 0s 95us/step - loss: 0.5988 - accuracy: 0.6866\n",
            "Epoch 281/300\n",
            "3172/3172 [==============================] - 0s 91us/step - loss: 0.5995 - accuracy: 0.6863\n",
            "Epoch 282/300\n",
            "3172/3172 [==============================] - 0s 92us/step - loss: 0.6014 - accuracy: 0.6879\n",
            "Epoch 283/300\n",
            "3172/3172 [==============================] - 0s 87us/step - loss: 0.6207 - accuracy: 0.6693\n",
            "Epoch 284/300\n",
            "3172/3172 [==============================] - 0s 82us/step - loss: 0.6238 - accuracy: 0.6652\n",
            "Epoch 285/300\n",
            "3172/3172 [==============================] - 0s 89us/step - loss: 0.6203 - accuracy: 0.6652\n",
            "Epoch 286/300\n",
            "3172/3172 [==============================] - 0s 95us/step - loss: 0.6101 - accuracy: 0.6769\n",
            "Epoch 287/300\n",
            "3172/3172 [==============================] - 0s 88us/step - loss: 0.6046 - accuracy: 0.6769\n",
            "Epoch 288/300\n",
            "3172/3172 [==============================] - 0s 91us/step - loss: 0.6035 - accuracy: 0.6816\n",
            "Epoch 289/300\n",
            "3172/3172 [==============================] - 0s 89us/step - loss: 0.6022 - accuracy: 0.6844\n",
            "Epoch 290/300\n",
            "3172/3172 [==============================] - 0s 94us/step - loss: 0.5997 - accuracy: 0.6788\n",
            "Epoch 291/300\n",
            "3172/3172 [==============================] - 0s 85us/step - loss: 0.6059 - accuracy: 0.6750\n",
            "Epoch 292/300\n",
            "3172/3172 [==============================] - 0s 93us/step - loss: 0.5998 - accuracy: 0.6841\n",
            "Epoch 293/300\n",
            "3172/3172 [==============================] - 0s 88us/step - loss: 0.5978 - accuracy: 0.6835\n",
            "Epoch 294/300\n",
            "3172/3172 [==============================] - 0s 83us/step - loss: 0.5968 - accuracy: 0.6885\n",
            "Epoch 295/300\n",
            "3172/3172 [==============================] - 0s 88us/step - loss: 0.5957 - accuracy: 0.6822\n",
            "Epoch 296/300\n",
            "3172/3172 [==============================] - 0s 83us/step - loss: 0.6024 - accuracy: 0.6800\n",
            "Epoch 297/300\n",
            "3172/3172 [==============================] - 0s 92us/step - loss: 0.5985 - accuracy: 0.6844\n",
            "Epoch 298/300\n",
            "3172/3172 [==============================] - 0s 96us/step - loss: 0.6040 - accuracy: 0.6769\n",
            "Epoch 299/300\n",
            "3172/3172 [==============================] - 0s 94us/step - loss: 0.6023 - accuracy: 0.6825\n",
            "Epoch 300/300\n",
            "3172/3172 [==============================] - 0s 87us/step - loss: 0.6024 - accuracy: 0.6873\n"
          ],
          "name": "stdout"
        },
        {
          "output_type": "execute_result",
          "data": {
            "text/plain": [
              "<keras.callbacks.callbacks.History at 0x7f0a3133ea58>"
            ]
          },
          "metadata": {
            "tags": []
          },
          "execution_count": 136
        }
      ]
    },
    {
      "cell_type": "code",
      "metadata": {
        "id": "u8vOFUyowClH",
        "colab_type": "code",
        "colab": {
          "base_uri": "https://localhost:8080/",
          "height": 104
        },
        "outputId": "5ed3ce77-1f50-434d-8d07-abba0dcc0a51"
      },
      "source": [
        "_, accuracy = model.evaluate(X_test, y_test)\n",
        "print('Accuracy: %.2f' % (accuracy*100))\n",
        "yhat_classes = model.predict_classes(X_test, verbose=0)\n",
        "# precision tp / (tp + fp)\n",
        "precision = precision_score(y_test, yhat_classes)\n",
        "print('Precision: %f' % precision)\n",
        "# recall: tp / (tp + fn)\n",
        "recall = recall_score(y_test, yhat_classes)\n",
        "print('Recall: %f' % recall)\n",
        "# f1: 2 tp / (2 tp + fp + fn)\n",
        "f1 = f1_score(y_test, yhat_classes)\n",
        "print('F1 score: %f' % f1)"
      ],
      "execution_count": 137,
      "outputs": [
        {
          "output_type": "stream",
          "text": [
            "794/794 [==============================] - 0s 138us/step\n",
            "Accuracy: 65.99\n",
            "Precision: 0.619469\n",
            "Recall: 0.235690\n",
            "F1 score: 0.341463\n"
          ],
          "name": "stdout"
        }
      ]
    }
  ]
}